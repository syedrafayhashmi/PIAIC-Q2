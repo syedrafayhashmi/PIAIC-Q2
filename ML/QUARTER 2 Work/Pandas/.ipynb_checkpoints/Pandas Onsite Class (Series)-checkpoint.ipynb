{
 "cells": [
  {
   "cell_type": "markdown",
   "metadata": {},
   "source": [
    "# *4th Class:*"
   ]
  },
  {
   "cell_type": "code",
   "execution_count": 1,
   "metadata": {},
   "outputs": [],
   "source": [
    "import pandas as pd"
   ]
  },
  {
   "cell_type": "code",
   "execution_count": 2,
   "metadata": {},
   "outputs": [
    {
     "name": "stdout",
     "output_type": "stream",
     "text": [
      "0    4\n",
      "1    3\n",
      "2    2\n",
      "3    1\n",
      "dtype: int64\n"
     ]
    }
   ],
   "source": [
    "o = pd.Series([4,3,2,1])\n",
    "print(o)"
   ]
  },
  {
   "cell_type": "code",
   "execution_count": 3,
   "metadata": {},
   "outputs": [
    {
     "name": "stdout",
     "output_type": "stream",
     "text": [
      "Values:  [100 200 300 400]\n",
      "Index:  RangeIndex(start=0, stop=4, step=1)\n"
     ]
    }
   ],
   "source": [
    "s = pd.Series([100,200,300,400])\n",
    "print(\"Values: \",s.values)\n",
    "print(\"Index: \",s.index)"
   ]
  },
  {
   "cell_type": "code",
   "execution_count": 4,
   "metadata": {},
   "outputs": [
    {
     "name": "stdout",
     "output_type": "stream",
     "text": [
      "Monday       30\n",
      "Tuesday      20\n",
      "Wednesday    10\n",
      "Thursday     40\n",
      "Friday       25\n",
      "Saturday     40\n",
      "Sunday        0\n",
      "dtype: int64\n"
     ]
    }
   ],
   "source": [
    "s = pd.Series([30,20,10,40,25,40,0],index = ['Monday','Tuesday','Wednesday','Thursday','Friday','Saturday','Sunday'])\n",
    "print(s)"
   ]
  },
  {
   "cell_type": "code",
   "execution_count": 5,
   "metadata": {
    "scrolled": true
   },
   "outputs": [
    {
     "name": "stdout",
     "output_type": "stream",
     "text": [
      "Punjab         4500.0\n",
      "Sindh          3500.0\n",
      "KPK            3000.0\n",
      "Balochistan    4000.0\n",
      "GB                NaN\n",
      "dtype: float64\n",
      "==============================\n",
      "Punjab         False\n",
      "Sindh          False\n",
      "KPK            False\n",
      "Balochistan    False\n",
      "GB              True\n",
      "dtype: bool\n"
     ]
    }
   ],
   "source": [
    "sdata  ={\"Sindh\":3500,\"Punjab\":4500,\"KPK\":3000,\"Balochistan\":4000}\n",
    "tax_by_state = pd.Series(sdata, index = [\"Punjab\",\"Sindh\",\"KPK\",\"Balochistan\",\"GB\"])\n",
    "print(tax_by_state)\n",
    "print(\"==============================\")\n",
    "print(pd.isnull(tax_by_state))"
   ]
  },
  {
   "cell_type": "code",
   "execution_count": 6,
   "metadata": {},
   "outputs": [
    {
     "data": {
      "text/plain": [
       "Punjab         False\n",
       "Sindh          False\n",
       "KPK            False\n",
       "Balochistan    False\n",
       "GB              True\n",
       "dtype: bool"
      ]
     },
     "execution_count": 6,
     "metadata": {},
     "output_type": "execute_result"
    }
   ],
   "source": [
    "tax_by_state.isnull()"
   ]
  },
  {
   "cell_type": "code",
   "execution_count": 7,
   "metadata": {},
   "outputs": [
    {
     "name": "stdout",
     "output_type": "stream",
     "text": [
      "mon    20\n",
      "tue    30\n",
      "wed    20\n",
      "thr    25\n",
      "fri    30\n",
      "sat    40\n",
      "sun     0\n",
      "dtype: int64\n",
      "m    20\n",
      "t    30\n",
      "w    20\n",
      "t    25\n",
      "f    30\n",
      "s    40\n",
      "s     0\n",
      "dtype: int64\n"
     ]
    }
   ],
   "source": [
    "sw = pd.Series([20, 30, 20, 25, 30, 40, 0], \n",
    "               index = ['mon', 'tue', 'wed', 'thr','fri', 'sat', 'sun'])\n",
    "print(sw)\n",
    "sw.index = [\"m\", \"t\", \"w\", \"t\", \"f\", \"s\", \"s\"]\n",
    "print(sw)"
   ]
  },
  {
   "cell_type": "code",
   "execution_count": 8,
   "metadata": {},
   "outputs": [
    {
     "name": "stdout",
     "output_type": "stream",
     "text": [
      "Mon      20\n",
      "Tue      30\n",
      "Wed      40\n",
      "Thurs    50\n",
      "Fri      60\n",
      "Sat      70\n",
      "Sun      80\n",
      "dtype: int64\n",
      "=================================\n",
      "M    20\n",
      "T    30\n",
      "W    40\n",
      "T    50\n",
      "F    60\n",
      "S    70\n",
      "S    80\n",
      "dtype: int64\n"
     ]
    }
   ],
   "source": [
    "s = pd.Series([20,30,40,50,60,70,80],\n",
    "             index = [\"Mon\",\"Tue\",\"Wed\",\"Thurs\",\"Fri\",\"Sat\",\"Sun\"])\n",
    "print(s)\n",
    "s.index = [\"M\",\"T\",\"W\",\"T\",\"F\",\"S\",\"S\"]\n",
    "print(\"=================================\")\n",
    "print(s)"
   ]
  },
  {
   "cell_type": "code",
   "execution_count": 9,
   "metadata": {},
   "outputs": [
    {
     "name": "stdout",
     "output_type": "stream",
     "text": [
      "a    2\n",
      "b    3\n",
      "c    4\n",
      "d    5\n",
      "e    6\n",
      "f    7\n",
      "dtype: int32\n"
     ]
    }
   ],
   "source": [
    "import numpy as np\n",
    "a = np.array([2,3,4,5,6,7])\n",
    "b = np.array([\"a\",\"b\",\"c\",\"d\",\"e\",'f'])\n",
    "c = pd.Series(a,index=b)\n",
    "print(c)"
   ]
  }
 ],
 "metadata": {
  "kernelspec": {
   "display_name": "Python 3",
   "language": "python",
   "name": "python3"
  },
  "language_info": {
   "codemirror_mode": {
    "name": "ipython",
    "version": 3
   },
   "file_extension": ".py",
   "mimetype": "text/x-python",
   "name": "python",
   "nbconvert_exporter": "python",
   "pygments_lexer": "ipython3",
   "version": "3.7.3"
  }
 },
 "nbformat": 4,
 "nbformat_minor": 2
}
