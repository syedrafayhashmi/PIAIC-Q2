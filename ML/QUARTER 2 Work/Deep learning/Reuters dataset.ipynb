{
 "cells": [
  {
   "cell_type": "code",
   "execution_count": 1,
   "metadata": {},
   "outputs": [],
   "source": [
    "import tensorflow as tf\n",
    "import numpy as np\n",
    "from tensorflow.keras.utils import to_categorical\n",
    "from tensorflow.keras.models import Sequential\n",
    "from tensorflow.keras.layers import Dense\n",
    "import matplotlib.pyplot as plt"
   ]
  },
  {
   "cell_type": "code",
   "execution_count": 2,
   "metadata": {},
   "outputs": [],
   "source": [
    "reuters = tf.keras.datasets.reuters"
   ]
  },
  {
   "cell_type": "code",
   "execution_count": 3,
   "metadata": {},
   "outputs": [],
   "source": [
    "(train_data, train_labels), (test_data, test_labels) = reuters.load_data(num_words = 1000)"
   ]
  },
  {
   "cell_type": "code",
   "execution_count": 4,
   "metadata": {},
   "outputs": [
    {
     "name": "stdout",
     "output_type": "stream",
     "text": [
      "(8982,)\n",
      "(8982,)\n",
      "(2246,)\n",
      "(2246,)\n"
     ]
    }
   ],
   "source": [
    "print(train_data.shape)\n",
    "print(train_labels.shape)\n",
    "print(test_data.shape)\n",
    "print(test_labels.shape)"
   ]
  },
  {
   "cell_type": "code",
   "execution_count": 5,
   "metadata": {},
   "outputs": [
    {
     "data": {
      "text/plain": [
       "'? ? ? said as a result of its december acquisition of ? co it expects earnings per share in 1987 of 1 15 to 1 30 dlrs per share up from 70 cts in 1986 the company said pretax net should rise to nine to 10 mln dlrs from six mln dlrs in 1986 and ? ? revenues to 19 to 22 mln dlrs from 12 5 mln dlrs it said cash ? per share this year should be 2 50 to three dlrs reuter 3'"
      ]
     },
     "execution_count": 5,
     "metadata": {},
     "output_type": "execute_result"
    }
   ],
   "source": [
    "words = reuters.get_word_index()\n",
    "#words\n",
    "rev_words = dict([value, key] for [key, value] in words.items())\n",
    "#rev_words\n",
    "decoded_words = \" \".join([rev_words.get(i - 3, \"?\") for i in train_data[0]])\n",
    "decoded_words"
   ]
  },
  {
   "cell_type": "code",
   "execution_count": 6,
   "metadata": {},
   "outputs": [],
   "source": [
    "def vetorize_sequence(sequences, dimension=10000):\n",
    "    results = np.zeros((len(sequences), dimension))\n",
    "    for i, sequence in enumerate(sequences):\n",
    "        results[i, sequence] = 1.\n",
    "    return results"
   ]
  },
  {
   "cell_type": "code",
   "execution_count": 7,
   "metadata": {},
   "outputs": [],
   "source": [
    "x_train = vetorize_sequence(train_data)\n",
    "x_test = vetorize_sequence(test_data)"
   ]
  },
  {
   "cell_type": "code",
   "execution_count": 8,
   "metadata": {},
   "outputs": [
    {
     "data": {
      "text/plain": [
       "array([[0., 1., 1., ..., 0., 0., 0.],\n",
       "       [0., 1., 1., ..., 0., 0., 0.],\n",
       "       [0., 1., 1., ..., 0., 0., 0.],\n",
       "       ...,\n",
       "       [0., 1., 1., ..., 0., 0., 0.],\n",
       "       [0., 1., 1., ..., 0., 0., 0.],\n",
       "       [0., 1., 1., ..., 0., 0., 0.]])"
      ]
     },
     "execution_count": 8,
     "metadata": {},
     "output_type": "execute_result"
    }
   ],
   "source": [
    "x_train"
   ]
  },
  {
   "cell_type": "code",
   "execution_count": 9,
   "metadata": {},
   "outputs": [
    {
     "data": {
      "text/plain": [
       "(8982, 10000)"
      ]
     },
     "execution_count": 9,
     "metadata": {},
     "output_type": "execute_result"
    }
   ],
   "source": [
    "x_train.shape"
   ]
  },
  {
   "cell_type": "code",
   "execution_count": 10,
   "metadata": {},
   "outputs": [],
   "source": [
    "y_train = to_categorical(train_labels)\n",
    "y_test = to_categorical(test_labels)"
   ]
  },
  {
   "cell_type": "code",
   "execution_count": 15,
   "metadata": {},
   "outputs": [
    {
     "data": {
      "text/plain": [
       "array([[0., 0., 0., ..., 0., 0., 0.],\n",
       "       [0., 0., 0., ..., 0., 0., 0.],\n",
       "       [0., 0., 0., ..., 0., 0., 0.],\n",
       "       ...,\n",
       "       [0., 0., 0., ..., 0., 0., 0.],\n",
       "       [0., 0., 0., ..., 0., 0., 0.],\n",
       "       [0., 0., 0., ..., 0., 0., 0.]], dtype=float32)"
      ]
     },
     "execution_count": 15,
     "metadata": {},
     "output_type": "execute_result"
    }
   ],
   "source": [
    "y_train"
   ]
  },
  {
   "cell_type": "code",
   "execution_count": 14,
   "metadata": {},
   "outputs": [
    {
     "data": {
      "text/plain": [
       "array([[0., 0., 0., ..., 0., 0., 0.],\n",
       "       [0., 0., 0., ..., 0., 0., 0.],\n",
       "       [0., 1., 0., ..., 0., 0., 0.],\n",
       "       ...,\n",
       "       [0., 0., 0., ..., 0., 0., 0.],\n",
       "       [0., 0., 0., ..., 0., 0., 0.],\n",
       "       [0., 0., 0., ..., 0., 0., 0.]], dtype=float32)"
      ]
     },
     "execution_count": 14,
     "metadata": {},
     "output_type": "execute_result"
    }
   ],
   "source": [
    "y_test"
   ]
  },
  {
   "cell_type": "code",
   "execution_count": 16,
   "metadata": {},
   "outputs": [
    {
     "name": "stdout",
     "output_type": "stream",
     "text": [
      "(8982, 10000)\n",
      "(8982, 46)\n",
      "(2246, 10000)\n",
      "(2246, 46)\n"
     ]
    }
   ],
   "source": [
    "print(x_train.shape)\n",
    "print(y_train.shape)\n",
    "print(x_test.shape)\n",
    "print(y_test.shape)"
   ]
  },
  {
   "cell_type": "code",
   "execution_count": 17,
   "metadata": {},
   "outputs": [],
   "source": [
    "model = Sequential()\n",
    "model.add(Dense(64, activation = \"relu\", input_shape = (10000,)))\n",
    "model.add(Dense(64, activation = \"relu\"))\n",
    "model.add(Dense(46, activation = \"softmax\"))"
   ]
  },
  {
   "cell_type": "code",
   "execution_count": 18,
   "metadata": {},
   "outputs": [],
   "source": [
    "model.compile(optimizer = \"rmsprop\",\n",
    "             loss = \"categorical_crossentropy\",\n",
    "             metrics = [\"acc\"])"
   ]
  },
  {
   "cell_type": "code",
   "execution_count": 19,
   "metadata": {},
   "outputs": [],
   "source": [
    "x_val = x_train[:1000]\n",
    "partial_x_train = x_train[1000:]\n",
    "\n",
    "y_val = y_train[:1000]\n",
    "partial_y_train = y_train[1000:]"
   ]
  },
  {
   "cell_type": "code",
   "execution_count": 20,
   "metadata": {},
   "outputs": [
    {
     "name": "stdout",
     "output_type": "stream",
     "text": [
      "Train on 7982 samples, validate on 1000 samples\n",
      "Epoch 1/20\n",
      "7982/7982 [==============================] - 2s 306us/sample - loss: 2.6873 - acc: 0.5100 - val_loss: 1.8223 - val_acc: 0.6230\n",
      "Epoch 2/20\n",
      "7982/7982 [==============================] - 1s 177us/sample - loss: 1.5846 - acc: 0.6630 - val_loss: 1.4304 - val_acc: 0.6720\n",
      "Epoch 3/20\n",
      "7982/7982 [==============================] - 1s 177us/sample - loss: 1.3169 - acc: 0.7071 - val_loss: 1.2818 - val_acc: 0.6990\n",
      "Epoch 4/20\n",
      "7982/7982 [==============================] - 1s 171us/sample - loss: 1.1684 - acc: 0.7393 - val_loss: 1.2130 - val_acc: 0.7300\n",
      "Epoch 5/20\n",
      "7982/7982 [==============================] - 1s 178us/sample - loss: 1.0625 - acc: 0.7610 - val_loss: 1.1244 - val_acc: 0.7470\n",
      "Epoch 6/20\n",
      "7982/7982 [==============================] - 1s 180us/sample - loss: 0.9636 - acc: 0.7859 - val_loss: 1.0940 - val_acc: 0.7540\n",
      "Epoch 7/20\n",
      "7982/7982 [==============================] - 1s 177us/sample - loss: 0.8888 - acc: 0.7997 - val_loss: 1.0388 - val_acc: 0.7670\n",
      "Epoch 8/20\n",
      "7982/7982 [==============================] - 1s 179us/sample - loss: 0.8153 - acc: 0.8137 - val_loss: 0.9959 - val_acc: 0.7820\n",
      "Epoch 9/20\n",
      "7982/7982 [==============================] - 1s 178us/sample - loss: 0.7532 - acc: 0.8241 - val_loss: 0.9841 - val_acc: 0.7810\n",
      "Epoch 10/20\n",
      "7982/7982 [==============================] - 1s 171us/sample - loss: 0.6962 - acc: 0.8359 - val_loss: 0.9484 - val_acc: 0.7920\n",
      "Epoch 11/20\n",
      "7982/7982 [==============================] - 1s 176us/sample - loss: 0.6484 - acc: 0.8497 - val_loss: 0.9541 - val_acc: 0.7890\n",
      "Epoch 12/20\n",
      "7982/7982 [==============================] - 1s 179us/sample - loss: 0.6000 - acc: 0.8599 - val_loss: 0.9564 - val_acc: 0.7900\n",
      "Epoch 13/20\n",
      "7982/7982 [==============================] - 1s 185us/sample - loss: 0.5621 - acc: 0.8668 - val_loss: 0.9157 - val_acc: 0.7970\n",
      "Epoch 14/20\n",
      "7982/7982 [==============================] - 1s 179us/sample - loss: 0.5283 - acc: 0.8746 - val_loss: 0.9264 - val_acc: 0.7880\n",
      "Epoch 15/20\n",
      "7982/7982 [==============================] - 1s 188us/sample - loss: 0.4950 - acc: 0.8851 - val_loss: 0.9239 - val_acc: 0.7880\n",
      "Epoch 16/20\n",
      "7982/7982 [==============================] - 2s 201us/sample - loss: 0.4591 - acc: 0.8951 - val_loss: 0.9245 - val_acc: 0.7990\n",
      "Epoch 17/20\n",
      "7982/7982 [==============================] - 1s 179us/sample - loss: 0.4345 - acc: 0.8978 - val_loss: 0.9369 - val_acc: 0.7970\n",
      "Epoch 18/20\n",
      "7982/7982 [==============================] - 1s 170us/sample - loss: 0.4120 - acc: 0.9009 - val_loss: 0.9069 - val_acc: 0.8100\n",
      "Epoch 19/20\n",
      "7982/7982 [==============================] - 1s 164us/sample - loss: 0.3860 - acc: 0.9083 - val_loss: 0.9222 - val_acc: 0.8040\n",
      "Epoch 20/20\n",
      "7982/7982 [==============================] - 1s 160us/sample - loss: 0.3654 - acc: 0.9152 - val_loss: 0.9279 - val_acc: 0.8060\n"
     ]
    }
   ],
   "source": [
    "history = model.fit(partial_x_train, partial_y_train, epochs = 20, batch_size = 512, validation_data = (x_val, y_val))"
   ]
  },
  {
   "cell_type": "code",
   "execution_count": 21,
   "metadata": {},
   "outputs": [
    {
     "data": {
      "image/png": "[encoded data removed]",
      "text/plain": [
       "<Figure size 432x288 with 1 Axes>"
      ]
     },
     "metadata": {
      "needs_background": "light"
     },
     "output_type": "display_data"
    }
   ],
   "source": [
    "loss = history.history['loss']\n",
    "val_loss = history.history['val_loss']\n",
    "\n",
    "epochs = range(1, len(loss) + 1)\n",
    "\n",
    "plt.plot(epochs, loss, 'bo', label='Training loss')\n",
    "plt.plot(epochs, val_loss, 'b', label='Validation loss')\n",
    "plt.title('Training and validation loss')\n",
    "plt.xlabel('Epochs')\n",
    "plt.ylabel('Loss')\n",
    "plt.legend()\n",
    "plt.show()"
   ]
  },
  {
   "cell_type": "code",
   "execution_count": 22,
   "metadata": {},
   "outputs": [
    {
     "data": {
      "image/png": "[encoded data removed]",
      "text/plain": [
       "<Figure size 432x288 with 1 Axes>"
      ]
     },
     "metadata": {
      "needs_background": "light"
     },
     "output_type": "display_data"
    }
   ],
   "source": [
    "plt.clf()\n",
    "\n",
    "acc = history.history['acc']\n",
    "val_acc = history.history['val_acc']\n",
    "\n",
    "plt.plot(epochs, acc, 'bo', label='Training acc')\n",
    "plt.plot(epochs, val_acc, 'b', label='Validation acc')\n",
    "plt.title('Training and validation accuracy')\n",
    "plt.xlabel('Epochs')\n",
    "plt.ylabel('Loss')\n",
    "plt.legend()\n",
    "plt.show()"
   ]
  },
  {
   "cell_type": "code",
   "execution_count": 23,
   "metadata": {},
   "outputs": [
    {
     "name": "stdout",
     "output_type": "stream",
     "text": [
      "Train on 7982 samples, validate on 1000 samples\n",
      "Epoch 1/9\n",
      "7982/7982 [==============================] - 2s 291us/sample - loss: 2.7731 - acc: 0.5036 - val_loss: 1.9219 - val_acc: 0.5950\n",
      "Epoch 2/9\n",
      "7982/7982 [==============================] - 1s 164us/sample - loss: 1.6553 - acc: 0.6493 - val_loss: 1.4617 - val_acc: 0.6630\n",
      "Epoch 3/9\n",
      "7982/7982 [==============================] - 2s 193us/sample - loss: 1.3306 - acc: 0.7093 - val_loss: 1.2658 - val_acc: 0.7090\n",
      "Epoch 4/9\n",
      "7982/7982 [==============================] - 2s 204us/sample - loss: 1.1539 - acc: 0.7469 - val_loss: 1.1424 - val_acc: 0.7470\n",
      "Epoch 5/9\n",
      "7982/7982 [==============================] - 2s 190us/sample - loss: 1.0306 - acc: 0.7730 - val_loss: 1.0746 - val_acc: 0.7680\n",
      "Epoch 6/9\n",
      "7982/7982 [==============================] - 1s 171us/sample - loss: 0.9345 - acc: 0.7890 - val_loss: 1.0291 - val_acc: 0.7660\n",
      "Epoch 7/9\n",
      "7982/7982 [==============================] - 1s 179us/sample - loss: 0.8581 - acc: 0.8019 - val_loss: 0.9849 - val_acc: 0.7810\n",
      "Epoch 8/9\n",
      "7982/7982 [==============================] - 2s 210us/sample - loss: 0.7853 - acc: 0.8162 - val_loss: 0.9721 - val_acc: 0.7760\n",
      "Epoch 9/9\n",
      "7982/7982 [==============================] - 2s 199us/sample - loss: 0.7279 - acc: 0.8274 - val_loss: 0.9501 - val_acc: 0.7870\n"
     ]
    }
   ],
   "source": [
    "model = Sequential()\n",
    "model.add(Dense(64, activation = \"relu\", input_shape = (10000,)))\n",
    "model.add(Dense(64, activation = \"relu\"))\n",
    "model.add(Dense(46, activation = \"softmax\"))\n",
    "\n",
    "model.compile(optimizer = \"rmsprop\",\n",
    "             loss = \"categorical_crossentropy\",\n",
    "             metrics = [\"acc\"])\n",
    "\n",
    "history = model.fit(partial_x_train, partial_y_train, epochs = 9, batch_size = 512, validation_data = (x_val, y_val))"
   ]
  },
  {
   "cell_type": "code",
   "execution_count": 24,
   "metadata": {},
   "outputs": [
    {
     "name": "stdout",
     "output_type": "stream",
     "text": [
      "2246/2246 [==============================] - 0s 173us/sample - loss: 1.0132 - acc: 0.7560\n"
     ]
    },
    {
     "data": {
      "text/plain": [
       "[1.0131674942329114, 0.7560107]"
      ]
     },
     "execution_count": 24,
     "metadata": {},
     "output_type": "execute_result"
    }
   ],
   "source": [
    "model.evaluate(x_test, y_test)"
   ]
  },
  {
   "cell_type": "code",
   "execution_count": 28,
   "metadata": {},
   "outputs": [],
   "source": [
    "predictions = model.predict(x_test)"
   ]
  },
  {
   "cell_type": "code",
   "execution_count": 32,
   "metadata": {},
   "outputs": [
    {
     "data": {
      "text/plain": [
       "array([2.6218542e-05, 2.2786007e-04, 1.3607003e-04, 9.6096539e-01,\n",
       "       2.1601131e-02, 2.3917239e-05, 5.5940705e-04, 5.1675030e-05,\n",
       "       6.2679574e-03, 5.3834574e-05, 1.1813494e-04, 7.7783759e-04,\n",
       "       2.3229061e-04, 1.2596355e-04, 2.4042283e-05, 8.9280184e-06,\n",
       "       1.2644065e-03, 1.5433760e-04, 3.6655422e-04, 7.6794351e-04,\n",
       "       2.0818189e-03, 1.0045137e-03, 2.7249725e-06, 1.3638168e-04,\n",
       "       4.5465225e-05, 4.8546327e-04, 2.6520238e-05, 9.9363351e-05,\n",
       "       1.4996366e-04, 1.4387190e-04, 2.2647399e-04, 7.5646451e-05,\n",
       "       1.2477071e-04, 6.2633885e-06, 3.0521915e-04, 1.2787759e-05,\n",
       "       9.0649660e-04, 1.0608858e-05, 2.0195417e-05, 1.8564615e-04,\n",
       "       3.7970738e-05, 7.5768759e-05, 4.2383261e-05, 2.1132972e-05,\n",
       "       1.5892389e-05, 2.6071546e-06], dtype=float32)"
      ]
     },
     "execution_count": 32,
     "metadata": {},
     "output_type": "execute_result"
    }
   ],
   "source": [
    "predictions[0]"
   ]
  },
  {
   "cell_type": "code",
   "execution_count": 34,
   "metadata": {},
   "outputs": [
    {
     "data": {
      "text/plain": [
       "0.9999999"
      ]
     },
     "execution_count": 34,
     "metadata": {},
     "output_type": "execute_result"
    }
   ],
   "source": [
    "np.sum(predictions[0])"
   ]
  },
  {
   "cell_type": "code",
   "execution_count": 35,
   "metadata": {},
   "outputs": [
    {
     "data": {
      "text/plain": [
       "3"
      ]
     },
     "execution_count": 35,
     "metadata": {},
     "output_type": "execute_result"
    }
   ],
   "source": [
    "np.argmax(predictions[0])"
   ]
  },
  {
   "cell_type": "code",
   "execution_count": null,
   "metadata": {},
   "outputs": [],
   "source": []
  }
 ],
 "metadata": {
  "kernelspec": {
   "display_name": "Python 3",
   "language": "python",
   "name": "python3"
  },
  "language_info": {
   "codemirror_mode": {
    "name": "ipython",
    "version": 3
   },
   "file_extension": ".py",
   "mimetype": "text/x-python",
   "name": "python",
   "nbconvert_exporter": "python",
   "pygments_lexer": "ipython3",
   "version": "3.7.4"
  }
 },
 "nbformat": 4,
 "nbformat_minor": 2
}
