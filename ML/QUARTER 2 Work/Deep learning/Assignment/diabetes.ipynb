{
 "cells": [
  {
   "cell_type": "code",
   "execution_count": 1,
   "metadata": {},
   "outputs": [],
   "source": [
    "import pandas as pd\n",
    "import numpy as np\n",
    "import tensorflow as tf"
   ]
  },
  {
   "cell_type": "code",
   "execution_count": 2,
   "metadata": {},
   "outputs": [
    {
     "data": {
      "text/html": [
       "<div>\n",
       "<style scoped>\n",
       "    .dataframe tbody tr th:only-of-type {\n",
       "        vertical-align: middle;\n",
       "    }\n",
       "\n",
       "    .dataframe tbody tr th {\n",
       "        vertical-align: top;\n",
       "    }\n",
       "\n",
       "    .dataframe thead th {\n",
       "        text-align: right;\n",
       "    }\n",
       "</style>\n",
       "<table border=\"1\" class=\"dataframe\">\n",
       "  <thead>\n",
       "    <tr style=\"text-align: right;\">\n",
       "      <th></th>\n",
       "      <th>Pregnancies</th>\n",
       "      <th>Glucose</th>\n",
       "      <th>BloodPressure</th>\n",
       "      <th>SkinThickness</th>\n",
       "      <th>Insulin</th>\n",
       "      <th>BMI</th>\n",
       "      <th>DiabetesPedigreeFunction</th>\n",
       "      <th>Age</th>\n",
       "      <th>Outcome</th>\n",
       "    </tr>\n",
       "  </thead>\n",
       "  <tbody>\n",
       "    <tr>\n",
       "      <td>0</td>\n",
       "      <td>6</td>\n",
       "      <td>148</td>\n",
       "      <td>72</td>\n",
       "      <td>35</td>\n",
       "      <td>0</td>\n",
       "      <td>33.6</td>\n",
       "      <td>0.627</td>\n",
       "      <td>50</td>\n",
       "      <td>1</td>\n",
       "    </tr>\n",
       "    <tr>\n",
       "      <td>1</td>\n",
       "      <td>1</td>\n",
       "      <td>85</td>\n",
       "      <td>66</td>\n",
       "      <td>29</td>\n",
       "      <td>0</td>\n",
       "      <td>26.6</td>\n",
       "      <td>0.351</td>\n",
       "      <td>31</td>\n",
       "      <td>0</td>\n",
       "    </tr>\n",
       "    <tr>\n",
       "      <td>2</td>\n",
       "      <td>8</td>\n",
       "      <td>183</td>\n",
       "      <td>64</td>\n",
       "      <td>0</td>\n",
       "      <td>0</td>\n",
       "      <td>23.3</td>\n",
       "      <td>0.672</td>\n",
       "      <td>32</td>\n",
       "      <td>1</td>\n",
       "    </tr>\n",
       "    <tr>\n",
       "      <td>3</td>\n",
       "      <td>1</td>\n",
       "      <td>89</td>\n",
       "      <td>66</td>\n",
       "      <td>23</td>\n",
       "      <td>94</td>\n",
       "      <td>28.1</td>\n",
       "      <td>0.167</td>\n",
       "      <td>21</td>\n",
       "      <td>0</td>\n",
       "    </tr>\n",
       "    <tr>\n",
       "      <td>4</td>\n",
       "      <td>0</td>\n",
       "      <td>137</td>\n",
       "      <td>40</td>\n",
       "      <td>35</td>\n",
       "      <td>168</td>\n",
       "      <td>43.1</td>\n",
       "      <td>2.288</td>\n",
       "      <td>33</td>\n",
       "      <td>1</td>\n",
       "    </tr>\n",
       "  </tbody>\n",
       "</table>\n",
       "</div>"
      ],
      "text/plain": [
       "   Pregnancies  Glucose  BloodPressure  SkinThickness  Insulin   BMI  \\\n",
       "0            6      148             72             35        0  33.6   \n",
       "1            1       85             66             29        0  26.6   \n",
       "2            8      183             64              0        0  23.3   \n",
       "3            1       89             66             23       94  28.1   \n",
       "4            0      137             40             35      168  43.1   \n",
       "\n",
       "   DiabetesPedigreeFunction  Age  Outcome  \n",
       "0                     0.627   50        1  \n",
       "1                     0.351   31        0  \n",
       "2                     0.672   32        1  \n",
       "3                     0.167   21        0  \n",
       "4                     2.288   33        1  "
      ]
     },
     "execution_count": 2,
     "metadata": {},
     "output_type": "execute_result"
    }
   ],
   "source": [
    "diabetes = pd.read_csv(\"datasets/diabetes.csv\")\n",
    "diabetes.head()"
   ]
  },
  {
   "cell_type": "code",
   "execution_count": 3,
   "metadata": {},
   "outputs": [
    {
     "data": {
      "text/html": [
       "<div>\n",
       "<style scoped>\n",
       "    .dataframe tbody tr th:only-of-type {\n",
       "        vertical-align: middle;\n",
       "    }\n",
       "\n",
       "    .dataframe tbody tr th {\n",
       "        vertical-align: top;\n",
       "    }\n",
       "\n",
       "    .dataframe thead th {\n",
       "        text-align: right;\n",
       "    }\n",
       "</style>\n",
       "<table border=\"1\" class=\"dataframe\">\n",
       "  <thead>\n",
       "    <tr style=\"text-align: right;\">\n",
       "      <th></th>\n",
       "      <th>Pregnancies</th>\n",
       "      <th>Glucose</th>\n",
       "      <th>BloodPressure</th>\n",
       "      <th>SkinThickness</th>\n",
       "      <th>Insulin</th>\n",
       "      <th>BMI</th>\n",
       "      <th>DiabetesPedigreeFunction</th>\n",
       "      <th>Age</th>\n",
       "      <th>Outcome</th>\n",
       "    </tr>\n",
       "  </thead>\n",
       "  <tbody>\n",
       "    <tr>\n",
       "      <td>723</td>\n",
       "      <td>5</td>\n",
       "      <td>117</td>\n",
       "      <td>86</td>\n",
       "      <td>30</td>\n",
       "      <td>105</td>\n",
       "      <td>39.1</td>\n",
       "      <td>0.251</td>\n",
       "      <td>42</td>\n",
       "      <td>0</td>\n",
       "    </tr>\n",
       "    <tr>\n",
       "      <td>32</td>\n",
       "      <td>3</td>\n",
       "      <td>88</td>\n",
       "      <td>58</td>\n",
       "      <td>11</td>\n",
       "      <td>54</td>\n",
       "      <td>24.8</td>\n",
       "      <td>0.267</td>\n",
       "      <td>22</td>\n",
       "      <td>0</td>\n",
       "    </tr>\n",
       "    <tr>\n",
       "      <td>200</td>\n",
       "      <td>0</td>\n",
       "      <td>113</td>\n",
       "      <td>80</td>\n",
       "      <td>16</td>\n",
       "      <td>0</td>\n",
       "      <td>31.0</td>\n",
       "      <td>0.874</td>\n",
       "      <td>21</td>\n",
       "      <td>0</td>\n",
       "    </tr>\n",
       "    <tr>\n",
       "      <td>345</td>\n",
       "      <td>8</td>\n",
       "      <td>126</td>\n",
       "      <td>88</td>\n",
       "      <td>36</td>\n",
       "      <td>108</td>\n",
       "      <td>38.5</td>\n",
       "      <td>0.349</td>\n",
       "      <td>49</td>\n",
       "      <td>0</td>\n",
       "    </tr>\n",
       "    <tr>\n",
       "      <td>514</td>\n",
       "      <td>3</td>\n",
       "      <td>99</td>\n",
       "      <td>54</td>\n",
       "      <td>19</td>\n",
       "      <td>86</td>\n",
       "      <td>25.6</td>\n",
       "      <td>0.154</td>\n",
       "      <td>24</td>\n",
       "      <td>0</td>\n",
       "    </tr>\n",
       "  </tbody>\n",
       "</table>\n",
       "</div>"
      ],
      "text/plain": [
       "     Pregnancies  Glucose  BloodPressure  SkinThickness  Insulin   BMI  \\\n",
       "723            5      117             86             30      105  39.1   \n",
       "32             3       88             58             11       54  24.8   \n",
       "200            0      113             80             16        0  31.0   \n",
       "345            8      126             88             36      108  38.5   \n",
       "514            3       99             54             19       86  25.6   \n",
       "\n",
       "     DiabetesPedigreeFunction  Age  Outcome  \n",
       "723                     0.251   42        0  \n",
       "32                      0.267   22        0  \n",
       "200                     0.874   21        0  \n",
       "345                     0.349   49        0  \n",
       "514                     0.154   24        0  "
      ]
     },
     "execution_count": 3,
     "metadata": {},
     "output_type": "execute_result"
    }
   ],
   "source": [
    "diabetes = diabetes.sample(frac = 1)\n",
    "diabetes.head()"
   ]
  },
  {
   "cell_type": "code",
   "execution_count": 4,
   "metadata": {},
   "outputs": [
    {
     "name": "stdout",
     "output_type": "stream",
     "text": [
      "<class 'pandas.core.frame.DataFrame'>\n",
      "Int64Index: 768 entries, 723 to 733\n",
      "Data columns (total 9 columns):\n",
      "Pregnancies                 768 non-null int64\n",
      "Glucose                     768 non-null int64\n",
      "BloodPressure               768 non-null int64\n",
      "SkinThickness               768 non-null int64\n",
      "Insulin                     768 non-null int64\n",
      "BMI                         768 non-null float64\n",
      "DiabetesPedigreeFunction    768 non-null float64\n",
      "Age                         768 non-null int64\n",
      "Outcome                     768 non-null int64\n",
      "dtypes: float64(2), int64(7)\n",
      "memory usage: 60.0 KB\n"
     ]
    }
   ],
   "source": [
    "diabetes.info()"
   ]
  },
  {
   "cell_type": "code",
   "execution_count": 5,
   "metadata": {},
   "outputs": [
    {
     "data": {
      "text/plain": [
       "Pregnancies                 0\n",
       "Glucose                     0\n",
       "BloodPressure               0\n",
       "SkinThickness               0\n",
       "Insulin                     0\n",
       "BMI                         0\n",
       "DiabetesPedigreeFunction    0\n",
       "Age                         0\n",
       "Outcome                     0\n",
       "dtype: int64"
      ]
     },
     "execution_count": 5,
     "metadata": {},
     "output_type": "execute_result"
    }
   ],
   "source": [
    "diabetes.isna().sum()"
   ]
  },
  {
   "cell_type": "code",
   "execution_count": 6,
   "metadata": {},
   "outputs": [
    {
     "data": {
      "text/plain": [
       "(768, 9)"
      ]
     },
     "execution_count": 6,
     "metadata": {},
     "output_type": "execute_result"
    }
   ],
   "source": [
    "diabetes.shape"
   ]
  },
  {
   "cell_type": "code",
   "execution_count": 7,
   "metadata": {},
   "outputs": [
    {
     "data": {
      "text/plain": [
       "0    500\n",
       "1    268\n",
       "Name: Outcome, dtype: int64"
      ]
     },
     "execution_count": 7,
     "metadata": {},
     "output_type": "execute_result"
    }
   ],
   "source": [
    "diabetes[\"Outcome\"].value_counts()"
   ]
  },
  {
   "cell_type": "code",
   "execution_count": 8,
   "metadata": {},
   "outputs": [
    {
     "data": {
      "text/plain": [
       "array([[ 0.3429808 , -0.12188771,  0.87340925, ...,  0.90206862,\n",
       "        -0.66707265,  0.74529338],\n",
       "       [-0.25095213, -1.02950492, -0.57412775, ..., -0.91287659,\n",
       "        -0.61875075, -0.95646168],\n",
       "       [-1.14185152, -0.24707629,  0.56322275, ..., -0.12597727,\n",
       "         1.21446129, -1.04154944],\n",
       "       ...,\n",
       "       [-1.14185152, -0.59134489, -0.26394125, ...,  1.09244749,\n",
       "         0.07285643, -1.04154944],\n",
       "       [-0.25095213, -1.27988209,  0.66661825, ...,  0.28016432,\n",
       "         2.4768709 , -0.53102292],\n",
       "       [-0.54791859, -0.46615631, -0.67752325, ..., -0.37981576,\n",
       "        -0.13855188, -0.95646168]])"
      ]
     },
     "execution_count": 8,
     "metadata": {},
     "output_type": "execute_result"
    }
   ],
   "source": [
    "from sklearn.preprocessing import StandardScaler\n",
    "diabetes_new = diabetes.drop([\"Outcome\"], axis = 1)\n",
    "diabetes_new = diabetes_new.values\n",
    "diabetes_new\n",
    "scale = StandardScaler()\n",
    "diabetes_new_scale = scale.fit_transform(diabetes_new)\n",
    "diabetes_new_scale"
   ]
  },
  {
   "cell_type": "code",
   "execution_count": 9,
   "metadata": {},
   "outputs": [
    {
     "data": {
      "text/plain": [
       "numpy.ndarray"
      ]
     },
     "execution_count": 9,
     "metadata": {},
     "output_type": "execute_result"
    }
   ],
   "source": [
    "type(diabetes_new_scale)"
   ]
  },
  {
   "cell_type": "code",
   "execution_count": 10,
   "metadata": {},
   "outputs": [
    {
     "data": {
      "text/plain": [
       "723    0\n",
       "32     0\n",
       "200    0\n",
       "345    0\n",
       "514    0\n",
       "      ..\n",
       "475    0\n",
       "591    0\n",
       "422    0\n",
       "659    1\n",
       "733    0\n",
       "Name: Outcome, Length: 768, dtype: int64"
      ]
     },
     "execution_count": 10,
     "metadata": {},
     "output_type": "execute_result"
    }
   ],
   "source": [
    "outcome = diabetes[\"Outcome\"]\n",
    "outcome"
   ]
  },
  {
   "cell_type": "code",
   "execution_count": 11,
   "metadata": {},
   "outputs": [
    {
     "name": "stdout",
     "output_type": "stream",
     "text": [
      "[[1. 0.]\n",
      " [1. 0.]\n",
      " [1. 0.]\n",
      " ...\n",
      " [1. 0.]\n",
      " [0. 1.]\n",
      " [1. 0.]]\n",
      "=========\n",
      "(768, 2)\n"
     ]
    }
   ],
   "source": [
    "from tensorflow.keras.utils import to_categorical\n",
    "outcome_enc = tf.keras.utils.to_categorical(outcome)\n",
    "print(outcome_enc)\n",
    "print(\"=========\")\n",
    "print(outcome_enc.shape)"
   ]
  },
  {
   "cell_type": "code",
   "execution_count": 12,
   "metadata": {},
   "outputs": [],
   "source": [
    "from sklearn.model_selection import train_test_split\n",
    "x_train, x_test, y_train, y_test = train_test_split(diabetes_new_scale, outcome_enc, test_size = 0.2, random_state = 10)"
   ]
  },
  {
   "cell_type": "code",
   "execution_count": 13,
   "metadata": {},
   "outputs": [
    {
     "name": "stdout",
     "output_type": "stream",
     "text": [
      "(614, 8)\n",
      "(154, 8)\n",
      "(614, 2)\n",
      "(154, 2)\n"
     ]
    }
   ],
   "source": [
    "print(x_train.shape)\n",
    "print(x_test.shape)\n",
    "print(y_train.shape)\n",
    "print(y_test.shape)"
   ]
  },
  {
   "cell_type": "code",
   "execution_count": 14,
   "metadata": {},
   "outputs": [],
   "source": [
    "from tensorflow.keras.models import Sequential\n",
    "from tensorflow.keras.layers import Dropout,Dense\n",
    "\n",
    "model = Sequential()\n",
    "model.add(Dense(16, input_shape = (8,)))\n",
    "model.add(Dropout(0.2))\n",
    "model.add(Dense(8, activation = \"relu\"))\n",
    "model.add(Dense(2, activation = \"softmax\"))"
   ]
  },
  {
   "cell_type": "code",
   "execution_count": 15,
   "metadata": {},
   "outputs": [],
   "source": [
    "model.compile(optimizer = \"rmsprop\",\n",
    "             loss = \"binary_crossentropy\",\n",
    "             metrics = [\"accuracy\"])"
   ]
  },
  {
   "cell_type": "code",
   "execution_count": 16,
   "metadata": {},
   "outputs": [
    {
     "name": "stdout",
     "output_type": "stream",
     "text": [
      "Train on 552 samples, validate on 62 samples\n",
      "Epoch 1/50\n",
      "552/552 - 1s - loss: 0.6516 - accuracy: 0.6667 - val_loss: 0.5260 - val_accuracy: 0.7581\n",
      "Epoch 2/50\n",
      "552/552 - 0s - loss: 0.5507 - accuracy: 0.7409 - val_loss: 0.4567 - val_accuracy: 0.8226\n",
      "Epoch 3/50\n",
      "552/552 - 0s - loss: 0.5214 - accuracy: 0.7391 - val_loss: 0.4235 - val_accuracy: 0.8065\n",
      "Epoch 4/50\n",
      "552/552 - 0s - loss: 0.4950 - accuracy: 0.7772 - val_loss: 0.4042 - val_accuracy: 0.8065\n",
      "Epoch 5/50\n",
      "552/552 - 0s - loss: 0.4950 - accuracy: 0.7591 - val_loss: 0.3943 - val_accuracy: 0.8065\n",
      "Epoch 6/50\n",
      "552/552 - 0s - loss: 0.4855 - accuracy: 0.7645 - val_loss: 0.3859 - val_accuracy: 0.8065\n",
      "Epoch 7/50\n",
      "552/552 - 0s - loss: 0.4678 - accuracy: 0.7844 - val_loss: 0.3823 - val_accuracy: 0.8065\n",
      "Epoch 8/50\n",
      "552/552 - 0s - loss: 0.5070 - accuracy: 0.7663 - val_loss: 0.3801 - val_accuracy: 0.8226\n",
      "Epoch 9/50\n",
      "552/552 - 0s - loss: 0.4850 - accuracy: 0.7699 - val_loss: 0.3770 - val_accuracy: 0.8226\n",
      "Epoch 10/50\n",
      "552/552 - 0s - loss: 0.4776 - accuracy: 0.7862 - val_loss: 0.3763 - val_accuracy: 0.8387\n",
      "Epoch 11/50\n",
      "552/552 - 0s - loss: 0.4752 - accuracy: 0.7663 - val_loss: 0.3747 - val_accuracy: 0.8387\n",
      "Epoch 12/50\n",
      "552/552 - 0s - loss: 0.4648 - accuracy: 0.7736 - val_loss: 0.3736 - val_accuracy: 0.8387\n",
      "Epoch 13/50\n",
      "552/552 - 0s - loss: 0.4707 - accuracy: 0.7736 - val_loss: 0.3734 - val_accuracy: 0.8387\n",
      "Epoch 14/50\n",
      "552/552 - 0s - loss: 0.4884 - accuracy: 0.7645 - val_loss: 0.3736 - val_accuracy: 0.8387\n",
      "Epoch 15/50\n",
      "552/552 - 0s - loss: 0.4859 - accuracy: 0.7645 - val_loss: 0.3760 - val_accuracy: 0.8387\n",
      "Epoch 16/50\n",
      "552/552 - 0s - loss: 0.4749 - accuracy: 0.7518 - val_loss: 0.3752 - val_accuracy: 0.8387\n",
      "Epoch 17/50\n",
      "552/552 - 0s - loss: 0.4678 - accuracy: 0.7736 - val_loss: 0.3751 - val_accuracy: 0.8387\n",
      "Epoch 18/50\n",
      "552/552 - 0s - loss: 0.4615 - accuracy: 0.7880 - val_loss: 0.3738 - val_accuracy: 0.8387\n",
      "Epoch 19/50\n",
      "552/552 - 0s - loss: 0.4639 - accuracy: 0.7591 - val_loss: 0.3732 - val_accuracy: 0.8387\n",
      "Epoch 20/50\n",
      "552/552 - 0s - loss: 0.4690 - accuracy: 0.7591 - val_loss: 0.3736 - val_accuracy: 0.8387\n",
      "Epoch 21/50\n",
      "552/552 - 0s - loss: 0.4704 - accuracy: 0.7699 - val_loss: 0.3737 - val_accuracy: 0.8387\n",
      "Epoch 22/50\n",
      "552/552 - 0s - loss: 0.4654 - accuracy: 0.7681 - val_loss: 0.3764 - val_accuracy: 0.8548\n",
      "Epoch 23/50\n",
      "552/552 - 0s - loss: 0.4617 - accuracy: 0.7627 - val_loss: 0.3770 - val_accuracy: 0.8226\n",
      "Epoch 24/50\n",
      "552/552 - 0s - loss: 0.4524 - accuracy: 0.7790 - val_loss: 0.3784 - val_accuracy: 0.8226\n",
      "Epoch 25/50\n",
      "552/552 - 0s - loss: 0.4698 - accuracy: 0.7808 - val_loss: 0.3777 - val_accuracy: 0.8387\n",
      "Epoch 26/50\n",
      "552/552 - 0s - loss: 0.4638 - accuracy: 0.7754 - val_loss: 0.3781 - val_accuracy: 0.8226\n",
      "Epoch 27/50\n",
      "552/552 - 0s - loss: 0.4530 - accuracy: 0.7536 - val_loss: 0.3802 - val_accuracy: 0.8387\n",
      "Epoch 28/50\n",
      "552/552 - 0s - loss: 0.4760 - accuracy: 0.7681 - val_loss: 0.3817 - val_accuracy: 0.8226\n",
      "Epoch 29/50\n",
      "552/552 - 0s - loss: 0.4554 - accuracy: 0.7717 - val_loss: 0.3828 - val_accuracy: 0.8065\n",
      "Epoch 30/50\n",
      "552/552 - 0s - loss: 0.4567 - accuracy: 0.7844 - val_loss: 0.3827 - val_accuracy: 0.8065\n",
      "Epoch 31/50\n",
      "552/552 - 0s - loss: 0.4596 - accuracy: 0.8025 - val_loss: 0.3820 - val_accuracy: 0.8065\n",
      "Epoch 32/50\n",
      "552/552 - 0s - loss: 0.4644 - accuracy: 0.7645 - val_loss: 0.3800 - val_accuracy: 0.8065\n",
      "Epoch 33/50\n",
      "552/552 - 0s - loss: 0.4669 - accuracy: 0.7609 - val_loss: 0.3833 - val_accuracy: 0.8065\n",
      "Epoch 34/50\n",
      "552/552 - 0s - loss: 0.4547 - accuracy: 0.7681 - val_loss: 0.3821 - val_accuracy: 0.8065\n",
      "Epoch 35/50\n",
      "552/552 - 0s - loss: 0.4545 - accuracy: 0.7772 - val_loss: 0.3800 - val_accuracy: 0.8065\n",
      "Epoch 36/50\n",
      "552/552 - 0s - loss: 0.4668 - accuracy: 0.7681 - val_loss: 0.3833 - val_accuracy: 0.8065\n",
      "Epoch 37/50\n",
      "552/552 - 0s - loss: 0.4477 - accuracy: 0.7880 - val_loss: 0.3808 - val_accuracy: 0.8065\n",
      "Epoch 38/50\n",
      "552/552 - 0s - loss: 0.4551 - accuracy: 0.7880 - val_loss: 0.3788 - val_accuracy: 0.8065\n",
      "Epoch 39/50\n",
      "552/552 - 0s - loss: 0.4515 - accuracy: 0.7935 - val_loss: 0.3810 - val_accuracy: 0.7903\n",
      "Epoch 40/50\n",
      "552/552 - 0s - loss: 0.4624 - accuracy: 0.7808 - val_loss: 0.3786 - val_accuracy: 0.7903\n",
      "Epoch 41/50\n",
      "552/552 - 0s - loss: 0.4499 - accuracy: 0.7754 - val_loss: 0.3788 - val_accuracy: 0.7903\n",
      "Epoch 42/50\n",
      "552/552 - 0s - loss: 0.4527 - accuracy: 0.7862 - val_loss: 0.3787 - val_accuracy: 0.7903\n",
      "Epoch 43/50\n",
      "552/552 - 0s - loss: 0.4478 - accuracy: 0.7844 - val_loss: 0.3777 - val_accuracy: 0.8065\n",
      "Epoch 44/50\n",
      "552/552 - 0s - loss: 0.4578 - accuracy: 0.7790 - val_loss: 0.3799 - val_accuracy: 0.7903\n",
      "Epoch 45/50\n",
      "552/552 - 0s - loss: 0.4582 - accuracy: 0.7790 - val_loss: 0.3793 - val_accuracy: 0.8065\n",
      "Epoch 46/50\n",
      "552/552 - 0s - loss: 0.4540 - accuracy: 0.7772 - val_loss: 0.3791 - val_accuracy: 0.7903\n",
      "Epoch 47/50\n",
      "552/552 - 0s - loss: 0.4460 - accuracy: 0.7808 - val_loss: 0.3800 - val_accuracy: 0.7903\n",
      "Epoch 48/50\n",
      "552/552 - 0s - loss: 0.4599 - accuracy: 0.7699 - val_loss: 0.3771 - val_accuracy: 0.8065\n",
      "Epoch 49/50\n",
      "552/552 - 0s - loss: 0.4464 - accuracy: 0.7917 - val_loss: 0.3765 - val_accuracy: 0.7903\n",
      "Epoch 50/50\n",
      "552/552 - 0s - loss: 0.4454 - accuracy: 0.7790 - val_loss: 0.3779 - val_accuracy: 0.7903\n"
     ]
    }
   ],
   "source": [
    "history = model.fit(x_train, y_train, epochs = 50, batch_size = 10 ,validation_split = 0.1, verbose = 2)"
   ]
  },
  {
   "cell_type": "code",
   "execution_count": 18,
   "metadata": {},
   "outputs": [
    {
     "data": {
      "image/png": "[encoded data removed]",
      "text/plain": [
       "<Figure size 432x288 with 1 Axes>"
      ]
     },
     "metadata": {
      "needs_background": "light"
     },
     "output_type": "display_data"
    },
    {
     "data": {
      "image/png": "[encoded data removed]",
      "text/plain": [
       "<Figure size 432x288 with 1 Axes>"
      ]
     },
     "metadata": {
      "needs_background": "light"
     },
     "output_type": "display_data"
    }
   ],
   "source": [
    "import matplotlib.pyplot as plt\n",
    "import matplotlib\n",
    "\n",
    "loss = history.history[\"loss\"]\n",
    "validation_loss = history.history[\"val_loss\"]\n",
    "epochs = range(1 , len(loss) + 1)\n",
    "plt.plot(epochs, loss, \"bo\", label = \"Training loss\")\n",
    "plt.plot(epochs, validation_loss, \"b\", label = \"Validation loss\")\n",
    "plt.title(\"Training and Validation Loss\")\n",
    "plt.xlabel(\"Epocs\")\n",
    "plt.ylabel(\"Loss\")\n",
    "plt.legend()\n",
    "plt.show()\n",
    "\n",
    "acc = history.history['accuracy']\n",
    "val_acc = history.history['val_accuracy']\n",
    "plt.plot(epochs, acc, 'bo', label='Training acc')\n",
    "plt.plot(epochs, val_acc, 'b', label='Validation acc')\n",
    "plt.title('Training and validation accuracy')\n",
    "plt.xlabel('Epochs')\n",
    "plt.ylabel('Loss')\n",
    "plt.legend()\n",
    "plt.show()"
   ]
  },
  {
   "cell_type": "code",
   "execution_count": 19,
   "metadata": {},
   "outputs": [],
   "source": [
    "def experimenting(batch_size, epochs, drop_ratio):\n",
    "    print(\"batch_size: \", batch_size, \"\\n\")\n",
    "    print(\"epochs: \", epochs, \"\\n\")\n",
    "    print(\"drop_ratio: \", drop_ratio, \"\\n\")\n",
    "    \n",
    "    model = Sequential()\n",
    "    model.add(Dense(16, input_shape = (8,)))\n",
    "    model.add(Dropout(0.2))\n",
    "    model.add(Dense(8, activation = \"relu\"))\n",
    "    model.add(Dense(2, activation = \"softmax\"))\n",
    "    \n",
    "    model.compile(optimizer = \"rmsprop\",\n",
    "                 loss = \"binary_crossentropy\",\n",
    "                 metrics = [\"acc\"])\n",
    "    \n",
    "    history = model.fit(x_train, y_train, batch_size = batch_size, epochs = epochs, verbose = 2, validation_split = 0.1)"
   ]
  },
  {
   "cell_type": "code",
   "execution_count": 20,
   "metadata": {},
   "outputs": [
    {
     "name": "stdout",
     "output_type": "stream",
     "text": [
      "batch_size:  20 \n",
      "\n",
      "epochs:  50 \n",
      "\n",
      "drop_ratio:  0.3 \n",
      "\n",
      "Train on 552 samples, validate on 62 samples\n",
      "Epoch 1/50\n",
      "552/552 - 1s - loss: 0.7140 - acc: 0.5652 - val_loss: 0.6287 - val_acc: 0.6935\n",
      "Epoch 2/50\n",
      "552/552 - 0s - loss: 0.6436 - acc: 0.6630 - val_loss: 0.5648 - val_acc: 0.7581\n",
      "Epoch 3/50\n",
      "552/552 - 0s - loss: 0.5773 - acc: 0.6938 - val_loss: 0.5229 - val_acc: 0.7903\n",
      "Epoch 4/50\n",
      "552/552 - 0s - loss: 0.5509 - acc: 0.7156 - val_loss: 0.4884 - val_acc: 0.7903\n",
      "Epoch 5/50\n",
      "552/552 - 0s - loss: 0.5432 - acc: 0.7228 - val_loss: 0.4641 - val_acc: 0.7903\n",
      "Epoch 6/50\n",
      "552/552 - 0s - loss: 0.5356 - acc: 0.7083 - val_loss: 0.4456 - val_acc: 0.7903\n",
      "Epoch 7/50\n",
      "552/552 - 0s - loss: 0.5331 - acc: 0.7264 - val_loss: 0.4308 - val_acc: 0.7903\n",
      "Epoch 8/50\n",
      "552/552 - 0s - loss: 0.5230 - acc: 0.7464 - val_loss: 0.4217 - val_acc: 0.8065\n",
      "Epoch 9/50\n",
      "552/552 - 0s - loss: 0.5024 - acc: 0.7572 - val_loss: 0.4145 - val_acc: 0.7903\n",
      "Epoch 10/50\n",
      "552/552 - 0s - loss: 0.5018 - acc: 0.7518 - val_loss: 0.4081 - val_acc: 0.7903\n",
      "Epoch 11/50\n",
      "552/552 - 0s - loss: 0.4862 - acc: 0.7500 - val_loss: 0.4017 - val_acc: 0.7742\n",
      "Epoch 12/50\n",
      "552/552 - 0s - loss: 0.4774 - acc: 0.7717 - val_loss: 0.3977 - val_acc: 0.7903\n",
      "Epoch 13/50\n",
      "552/552 - 0s - loss: 0.4806 - acc: 0.7572 - val_loss: 0.3961 - val_acc: 0.7903\n",
      "Epoch 14/50\n",
      "552/552 - 0s - loss: 0.4970 - acc: 0.7428 - val_loss: 0.3944 - val_acc: 0.7903\n",
      "Epoch 15/50\n",
      "552/552 - 0s - loss: 0.4733 - acc: 0.7717 - val_loss: 0.3947 - val_acc: 0.7903\n",
      "Epoch 16/50\n",
      "552/552 - 0s - loss: 0.4788 - acc: 0.7717 - val_loss: 0.3920 - val_acc: 0.7903\n",
      "Epoch 17/50\n",
      "552/552 - 0s - loss: 0.4845 - acc: 0.7518 - val_loss: 0.3898 - val_acc: 0.8065\n",
      "Epoch 18/50\n",
      "552/552 - 0s - loss: 0.4855 - acc: 0.7627 - val_loss: 0.3884 - val_acc: 0.8387\n",
      "Epoch 19/50\n",
      "552/552 - 0s - loss: 0.4743 - acc: 0.7572 - val_loss: 0.3834 - val_acc: 0.7903\n",
      "Epoch 20/50\n",
      "552/552 - 0s - loss: 0.4912 - acc: 0.7482 - val_loss: 0.3822 - val_acc: 0.8065\n",
      "Epoch 21/50\n",
      "552/552 - 0s - loss: 0.4749 - acc: 0.7699 - val_loss: 0.3826 - val_acc: 0.8387\n",
      "Epoch 22/50\n",
      "552/552 - 0s - loss: 0.4756 - acc: 0.7681 - val_loss: 0.3815 - val_acc: 0.8226\n",
      "Epoch 23/50\n",
      "552/552 - 0s - loss: 0.4662 - acc: 0.7609 - val_loss: 0.3808 - val_acc: 0.8065\n",
      "Epoch 24/50\n",
      "552/552 - 0s - loss: 0.4656 - acc: 0.7663 - val_loss: 0.3786 - val_acc: 0.8065\n",
      "Epoch 25/50\n",
      "552/552 - 0s - loss: 0.4811 - acc: 0.7663 - val_loss: 0.3771 - val_acc: 0.8226\n",
      "Epoch 26/50\n",
      "552/552 - 0s - loss: 0.4808 - acc: 0.7627 - val_loss: 0.3762 - val_acc: 0.8065\n",
      "Epoch 27/50\n",
      "552/552 - 0s - loss: 0.4708 - acc: 0.7627 - val_loss: 0.3766 - val_acc: 0.8226\n",
      "Epoch 28/50\n",
      "552/552 - 0s - loss: 0.4734 - acc: 0.7409 - val_loss: 0.3786 - val_acc: 0.8387\n",
      "Epoch 29/50\n",
      "552/552 - 0s - loss: 0.4673 - acc: 0.7699 - val_loss: 0.3777 - val_acc: 0.8226\n",
      "Epoch 30/50\n",
      "552/552 - 0s - loss: 0.4530 - acc: 0.7772 - val_loss: 0.3768 - val_acc: 0.8226\n",
      "Epoch 31/50\n",
      "552/552 - 0s - loss: 0.4759 - acc: 0.7772 - val_loss: 0.3783 - val_acc: 0.8387\n",
      "Epoch 32/50\n",
      "552/552 - 0s - loss: 0.4669 - acc: 0.7554 - val_loss: 0.3771 - val_acc: 0.8387\n",
      "Epoch 33/50\n",
      "552/552 - 0s - loss: 0.4732 - acc: 0.7681 - val_loss: 0.3791 - val_acc: 0.8387\n",
      "Epoch 34/50\n",
      "552/552 - 0s - loss: 0.4524 - acc: 0.7899 - val_loss: 0.3769 - val_acc: 0.8387\n",
      "Epoch 35/50\n",
      "552/552 - 0s - loss: 0.4654 - acc: 0.7826 - val_loss: 0.3748 - val_acc: 0.8387\n",
      "Epoch 36/50\n",
      "552/552 - 0s - loss: 0.4686 - acc: 0.7645 - val_loss: 0.3750 - val_acc: 0.8387\n",
      "Epoch 37/50\n",
      "552/552 - 0s - loss: 0.4708 - acc: 0.7663 - val_loss: 0.3770 - val_acc: 0.8387\n",
      "Epoch 38/50\n",
      "552/552 - 0s - loss: 0.4662 - acc: 0.7681 - val_loss: 0.3749 - val_acc: 0.8387\n",
      "Epoch 39/50\n",
      "552/552 - 0s - loss: 0.4567 - acc: 0.7681 - val_loss: 0.3718 - val_acc: 0.8387\n",
      "Epoch 40/50\n",
      "552/552 - 0s - loss: 0.4607 - acc: 0.7862 - val_loss: 0.3715 - val_acc: 0.8548\n",
      "Epoch 41/50\n",
      "552/552 - 0s - loss: 0.4546 - acc: 0.7808 - val_loss: 0.3706 - val_acc: 0.8387\n",
      "Epoch 42/50\n",
      "552/552 - 0s - loss: 0.4583 - acc: 0.7772 - val_loss: 0.3687 - val_acc: 0.8387\n",
      "Epoch 43/50\n",
      "552/552 - 0s - loss: 0.4651 - acc: 0.7663 - val_loss: 0.3707 - val_acc: 0.8548\n",
      "Epoch 44/50\n",
      "552/552 - 0s - loss: 0.4487 - acc: 0.7826 - val_loss: 0.3708 - val_acc: 0.8548\n",
      "Epoch 45/50\n",
      "552/552 - 0s - loss: 0.4675 - acc: 0.7772 - val_loss: 0.3701 - val_acc: 0.8387\n",
      "Epoch 46/50\n",
      "552/552 - 0s - loss: 0.4606 - acc: 0.7681 - val_loss: 0.3721 - val_acc: 0.8548\n",
      "Epoch 47/50\n",
      "552/552 - 0s - loss: 0.4562 - acc: 0.7808 - val_loss: 0.3722 - val_acc: 0.8548\n",
      "Epoch 48/50\n",
      "552/552 - 0s - loss: 0.4553 - acc: 0.7862 - val_loss: 0.3723 - val_acc: 0.8387\n",
      "Epoch 49/50\n",
      "552/552 - 0s - loss: 0.4515 - acc: 0.7790 - val_loss: 0.3713 - val_acc: 0.8387\n",
      "Epoch 50/50\n",
      "552/552 - 0s - loss: 0.4652 - acc: 0.7808 - val_loss: 0.3700 - val_acc: 0.8387\n"
     ]
    }
   ],
   "source": [
    "batch_size = 20\n",
    "epochs = 50\n",
    "drop_ration = 0.3\n",
    "experimenting(batch_size, epochs, drop_ration)"
   ]
  },
  {
   "cell_type": "code",
   "execution_count": 21,
   "metadata": {},
   "outputs": [
    {
     "name": "stdout",
     "output_type": "stream",
     "text": [
      "\t Test Loss:  0.5377893211779656\n",
      "\t Test Accuracy:  0.72727275\n"
     ]
    }
   ],
   "source": [
    "evaluation = model.evaluate(x_test, y_test, verbose = 0)\n",
    "    \n",
    "print(\"\\t Test Loss: \", evaluation[0])\n",
    "print(\"\\t Test Accuracy: \", evaluation[1])"
   ]
  },
  {
   "cell_type": "code",
   "execution_count": 24,
   "metadata": {},
   "outputs": [
    {
     "data": {
      "text/plain": [
       "0"
      ]
     },
     "execution_count": 24,
     "metadata": {},
     "output_type": "execute_result"
    }
   ],
   "source": [
    "pred = model.predict_classes(x_test)[2]\n",
    "pred"
   ]
  },
  {
   "cell_type": "code",
   "execution_count": 25,
   "metadata": {},
   "outputs": [
    {
     "data": {
      "text/plain": [
       "array([1., 0.], dtype=float32)"
      ]
     },
     "execution_count": 25,
     "metadata": {},
     "output_type": "execute_result"
    }
   ],
   "source": [
    "y_test[2]"
   ]
  },
  {
   "cell_type": "code",
   "execution_count": null,
   "metadata": {},
   "outputs": [],
   "source": []
  }
 ],
 "metadata": {
  "kernelspec": {
   "display_name": "Python 3",
   "language": "python",
   "name": "python3"
  },
  "language_info": {
   "codemirror_mode": {
    "name": "ipython",
    "version": 3
   },
   "file_extension": ".py",
   "mimetype": "text/x-python",
   "name": "python",
   "nbconvert_exporter": "python",
   "pygments_lexer": "ipython3",
   "version": "3.7.4"
  }
 },
 "nbformat": 4,
 "nbformat_minor": 2
}
