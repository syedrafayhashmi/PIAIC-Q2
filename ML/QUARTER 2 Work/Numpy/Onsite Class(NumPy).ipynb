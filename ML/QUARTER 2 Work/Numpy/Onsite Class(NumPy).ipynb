{
 "cells": [
  {
   "cell_type": "markdown",
   "metadata": {},
   "source": [
    "# *1st Class:*"
   ]
  },
  {
   "cell_type": "code",
   "execution_count": 1,
   "metadata": {},
   "outputs": [
    {
     "name": "stdout",
     "output_type": "stream",
     "text": [
      "Wall time: 39 ms\n",
      "Wall time: 1.43 s\n"
     ]
    }
   ],
   "source": [
    "import numpy as np\n",
    "my_arr = np.arange(1000000)\n",
    "my_list = list(range(1000000))\n",
    "%time for _ in range(10): my_arr2 = my_arr * 2\n",
    "%time for _ in range(10): my_list2 = [x * 2 for x in my_list]"
   ]
  },
  {
   "cell_type": "code",
   "execution_count": 2,
   "metadata": {},
   "outputs": [
    {
     "name": "stdout",
     "output_type": "stream",
     "text": [
      "[1 2 3 4]\n",
      "<class 'numpy.ndarray'>\n",
      "[2 3 4 5 6]\n",
      "<class 'numpy.ndarray'>\n"
     ]
    }
   ],
   "source": [
    "nd_array = np.array([1,2,3,4])\n",
    "print(nd_array)\n",
    "print(type(nd_array))\n",
    "\n",
    "list = [2,3,4,5,6]\n",
    "nd_a = np.array(list)\n",
    "print(nd_a)\n",
    "print(type(nd_a))"
   ]
  },
  {
   "cell_type": "code",
   "execution_count": 3,
   "metadata": {},
   "outputs": [
    {
     "name": "stdout",
     "output_type": "stream",
     "text": [
      "<class 'list'>\n",
      "[[[[[0. 0. 0. 0. 0.]\n",
      "    [0. 0. 0. 0. 0.]\n",
      "    [0. 0. 0. 0. 0.]\n",
      "    [0. 0. 0. 0. 0.]]\n",
      "\n",
      "   [[0. 0. 0. 0. 0.]\n",
      "    [0. 0. 0. 0. 0.]\n",
      "    [0. 0. 0. 0. 0.]\n",
      "    [0. 0. 0. 0. 0.]]\n",
      "\n",
      "   [[0. 0. 0. 0. 0.]\n",
      "    [0. 0. 0. 0. 0.]\n",
      "    [0. 0. 0. 0. 0.]\n",
      "    [0. 0. 0. 0. 0.]]]\n",
      "\n",
      "\n",
      "  [[[0. 0. 0. 0. 0.]\n",
      "    [0. 0. 0. 0. 0.]\n",
      "    [0. 0. 0. 0. 0.]\n",
      "    [0. 0. 0. 0. 0.]]\n",
      "\n",
      "   [[0. 0. 0. 0. 0.]\n",
      "    [0. 0. 0. 0. 0.]\n",
      "    [0. 0. 0. 0. 0.]\n",
      "    [0. 0. 0. 0. 0.]]\n",
      "\n",
      "   [[0. 0. 0. 0. 0.]\n",
      "    [0. 0. 0. 0. 0.]\n",
      "    [0. 0. 0. 0. 0.]\n",
      "    [0. 0. 0. 0. 0.]]]]]\n"
     ]
    }
   ],
   "source": [
    "list1 = [1,2,3,4,5]\n",
    "a = np.zeros(list1)\n",
    "print(type(list1))\n",
    "print(a)"
   ]
  },
  {
   "cell_type": "code",
   "execution_count": 4,
   "metadata": {},
   "outputs": [
    {
     "name": "stdout",
     "output_type": "stream",
     "text": [
      "[[[[[1. 1. 1. 1. 1.]\n",
      "    [1. 1. 1. 1. 1.]\n",
      "    [1. 1. 1. 1. 1.]\n",
      "    [1. 1. 1. 1. 1.]]\n",
      "\n",
      "   [[1. 1. 1. 1. 1.]\n",
      "    [1. 1. 1. 1. 1.]\n",
      "    [1. 1. 1. 1. 1.]\n",
      "    [1. 1. 1. 1. 1.]]\n",
      "\n",
      "   [[1. 1. 1. 1. 1.]\n",
      "    [1. 1. 1. 1. 1.]\n",
      "    [1. 1. 1. 1. 1.]\n",
      "    [1. 1. 1. 1. 1.]]]\n",
      "\n",
      "\n",
      "  [[[1. 1. 1. 1. 1.]\n",
      "    [1. 1. 1. 1. 1.]\n",
      "    [1. 1. 1. 1. 1.]\n",
      "    [1. 1. 1. 1. 1.]]\n",
      "\n",
      "   [[1. 1. 1. 1. 1.]\n",
      "    [1. 1. 1. 1. 1.]\n",
      "    [1. 1. 1. 1. 1.]\n",
      "    [1. 1. 1. 1. 1.]]\n",
      "\n",
      "   [[1. 1. 1. 1. 1.]\n",
      "    [1. 1. 1. 1. 1.]\n",
      "    [1. 1. 1. 1. 1.]\n",
      "    [1. 1. 1. 1. 1.]]]]]\n"
     ]
    }
   ],
   "source": [
    "b = np.ones(list1)\n",
    "print(b)"
   ]
  },
  {
   "cell_type": "code",
   "execution_count": 5,
   "metadata": {},
   "outputs": [
    {
     "name": "stdout",
     "output_type": "stream",
     "text": [
      "[[[[[1. 1. 1. 1. 1.]\n",
      "    [1. 1. 1. 1. 1.]\n",
      "    [1. 1. 1. 1. 1.]\n",
      "    [1. 1. 1. 1. 1.]]\n",
      "\n",
      "   [[1. 1. 1. 1. 1.]\n",
      "    [1. 1. 1. 1. 1.]\n",
      "    [1. 1. 1. 1. 1.]\n",
      "    [1. 1. 1. 1. 1.]]\n",
      "\n",
      "   [[1. 1. 1. 1. 1.]\n",
      "    [1. 1. 1. 1. 1.]\n",
      "    [1. 1. 1. 1. 1.]\n",
      "    [1. 1. 1. 1. 1.]]]\n",
      "\n",
      "\n",
      "  [[[1. 1. 1. 1. 1.]\n",
      "    [1. 1. 1. 1. 1.]\n",
      "    [1. 1. 1. 1. 1.]\n",
      "    [1. 1. 1. 1. 1.]]\n",
      "\n",
      "   [[1. 1. 1. 1. 1.]\n",
      "    [1. 1. 1. 1. 1.]\n",
      "    [1. 1. 1. 1. 1.]\n",
      "    [1. 1. 1. 1. 1.]]\n",
      "\n",
      "   [[1. 1. 1. 1. 1.]\n",
      "    [1. 1. 1. 1. 1.]\n",
      "    [1. 1. 1. 1. 1.]\n",
      "    [1. 1. 1. 1. 1.]]]]]\n"
     ]
    }
   ],
   "source": [
    "c = np.empty(list1)\n",
    "print(c)"
   ]
  },
  {
   "cell_type": "code",
   "execution_count": 6,
   "metadata": {},
   "outputs": [
    {
     "name": "stdout",
     "output_type": "stream",
     "text": [
      "[0 1 2 3 4 5 6 7 8 9]\n"
     ]
    }
   ],
   "source": [
    "d = np.arange(10)\n",
    "print(d)"
   ]
  },
  {
   "cell_type": "code",
   "execution_count": 7,
   "metadata": {},
   "outputs": [
    {
     "name": "stdout",
     "output_type": "stream",
     "text": [
      "[]\n"
     ]
    }
   ],
   "source": [
    "n_a = np.zeros([0,1,2,3,4])\n",
    "print(n_a)"
   ]
  },
  {
   "cell_type": "code",
   "execution_count": 8,
   "metadata": {},
   "outputs": [
    {
     "name": "stdout",
     "output_type": "stream",
     "text": [
      "[[[[0. 0. 0. 0.]\n",
      "   [0. 0. 0. 0.]\n",
      "   [0. 0. 0. 0.]]\n",
      "\n",
      "  [[0. 0. 0. 0.]\n",
      "   [0. 0. 0. 0.]\n",
      "   [0. 0. 0. 0.]]]]\n"
     ]
    }
   ],
   "source": [
    "n_a = np.zeros([1,2,3,4])\n",
    "print(n_a)"
   ]
  },
  {
   "cell_type": "markdown",
   "metadata": {},
   "source": [
    "# *2nd Class:*"
   ]
  },
  {
   "cell_type": "code",
   "execution_count": 9,
   "metadata": {},
   "outputs": [],
   "source": [
    "import numpy as np"
   ]
  },
  {
   "cell_type": "code",
   "execution_count": 10,
   "metadata": {},
   "outputs": [],
   "source": [
    "a = \"\"\"For many people, the Python programming language has strong appeal. Since its first\n",
    "appearance in 1991, Python has become one of the most popular interpreted pro‐\n",
    "gramming languages, along with Perl, Ruby, and others. Python and Ruby have\n",
    "become especially popular since 2005 or so for building websites using their numer‐\n",
    "ous web frameworks, like Rails (Ruby) and Django (Python). Such languages are\n",
    "often called scripting languages, as they can be used to quickly write small programs,\n",
    "or scripts to automate other tasks. I don’t like the term “scripting language,” as it car‐\n",
    "ries a connotation that they cannot be used for building serious software. Among\n",
    "interpreted languages, for various historical and cultural reasons, Python has devel‐\n",
    "oped a large and active scientific computing and data analysis community. In the last\n",
    "10 years, Python has gone from a bleeding-edge or “at your own risk” scientific com‐\n",
    "puting language to one of the most important languages for data science, machine\n",
    "learning, and general software development in academia and industry\"\"\""
   ]
  },
  {
   "cell_type": "code",
   "execution_count": 11,
   "metadata": {},
   "outputs": [],
   "source": [
    "x = np.array(a.split())"
   ]
  },
  {
   "cell_type": "code",
   "execution_count": 12,
   "metadata": {},
   "outputs": [
    {
     "data": {
      "text/plain": [
       "array(['For', 'many', 'people,', 'the', 'Python', 'programming',\n",
       "       'language', 'has', 'strong', 'appeal.', 'Since', 'its', 'first',\n",
       "       'appearance', 'in', '1991,', 'Python', 'has', 'become', 'one',\n",
       "       'of', 'the', 'most', 'popular', 'interpreted', 'pro‐', 'gramming',\n",
       "       'languages,', 'along', 'with', 'Perl,', 'Ruby,', 'and', 'others.',\n",
       "       'Python', 'and', 'Ruby', 'have', 'become', 'especially', 'popular',\n",
       "       'since', '2005', 'or', 'so', 'for', 'building', 'websites',\n",
       "       'using', 'their', 'numer‐', 'ous', 'web', 'frameworks,', 'like',\n",
       "       'Rails', '(Ruby)', 'and', 'Django', '(Python).', 'Such',\n",
       "       'languages', 'are', 'often', 'called', 'scripting', 'languages,',\n",
       "       'as', 'they', 'can', 'be', 'used', 'to', 'quickly', 'write',\n",
       "       'small', 'programs,', 'or', 'scripts', 'to', 'automate', 'other',\n",
       "       'tasks.', 'I', 'don’t', 'like', 'the', 'term', '“scripting',\n",
       "       'language,”', 'as', 'it', 'car‐', 'ries', 'a', 'connotation',\n",
       "       'that', 'they', 'cannot', 'be', 'used', 'for', 'building',\n",
       "       'serious', 'software.', 'Among', 'interpreted', 'languages,',\n",
       "       'for', 'various', 'historical', 'and', 'cultural', 'reasons,',\n",
       "       'Python', 'has', 'devel‐', 'oped', 'a', 'large', 'and', 'active',\n",
       "       'scientific', 'computing', 'and', 'data', 'analysis', 'community.',\n",
       "       'In', 'the', 'last', '10', 'years,', 'Python', 'has', 'gone',\n",
       "       'from', 'a', 'bleeding-edge', 'or', '“at', 'your', 'own', 'risk”',\n",
       "       'scientific', 'com‐', 'puting', 'language', 'to', 'one', 'of',\n",
       "       'the', 'most', 'important', 'languages', 'for', 'data', 'science,',\n",
       "       'machine', 'learning,', 'and', 'general', 'software',\n",
       "       'development', 'in', 'academia', 'and', 'industry'], dtype='<U13')"
      ]
     },
     "execution_count": 12,
     "metadata": {},
     "output_type": "execute_result"
    }
   ],
   "source": [
    "x"
   ]
  },
  {
   "cell_type": "code",
   "execution_count": 13,
   "metadata": {},
   "outputs": [
    {
     "name": "stdout",
     "output_type": "stream",
     "text": [
      "168\n"
     ]
    }
   ],
   "source": [
    "print(len(x))"
   ]
  },
  {
   "cell_type": "code",
   "execution_count": 14,
   "metadata": {},
   "outputs": [
    {
     "name": "stdout",
     "output_type": "stream",
     "text": [
      "1\n",
      "3\n",
      "5\n",
      "7\n",
      "9\n"
     ]
    }
   ],
   "source": [
    "for i in range(1,10,2):\n",
    "    print(i)"
   ]
  },
  {
   "cell_type": "code",
   "execution_count": 15,
   "metadata": {},
   "outputs": [
    {
     "name": "stdout",
     "output_type": "stream",
     "text": [
      "[1 2 3 4 5 6 7 8 9]\n"
     ]
    }
   ],
   "source": [
    "print(np.arange(1,10))"
   ]
  },
  {
   "cell_type": "code",
   "execution_count": 16,
   "metadata": {},
   "outputs": [
    {
     "name": "stdout",
     "output_type": "stream",
     "text": [
      "[[1 2 3 4]\n",
      " [5 6 7 8]]\n",
      "2\n",
      "8\n",
      "(2, 4)\n",
      "2\n"
     ]
    }
   ],
   "source": [
    "d3 = np.array([[1,2,3,4], [5,6,7,8]])\n",
    "print(d3)\n",
    "print(len(d3))\n",
    "print(d3.size)\n",
    "print(d3.shape)\n",
    "print(d3.ndim)"
   ]
  },
  {
   "cell_type": "code",
   "execution_count": 17,
   "metadata": {},
   "outputs": [],
   "source": [
    "arr = np.array([[1,2,3],[4,5,6]])"
   ]
  },
  {
   "cell_type": "code",
   "execution_count": 18,
   "metadata": {},
   "outputs": [],
   "source": [
    "arr2 = np.array([2])"
   ]
  },
  {
   "cell_type": "code",
   "execution_count": 19,
   "metadata": {},
   "outputs": [],
   "source": [
    "arr3 = arr * arr2"
   ]
  },
  {
   "cell_type": "code",
   "execution_count": 20,
   "metadata": {},
   "outputs": [
    {
     "data": {
      "text/plain": [
       "array([[ 2,  4,  6],\n",
       "       [ 8, 10, 12]])"
      ]
     },
     "execution_count": 20,
     "metadata": {},
     "output_type": "execute_result"
    }
   ],
   "source": [
    "arr3"
   ]
  },
  {
   "cell_type": "code",
   "execution_count": 21,
   "metadata": {},
   "outputs": [],
   "source": [
    "arr4 = np.array([12,-45,67,89,34,-2,-2,6,-7,8])"
   ]
  },
  {
   "cell_type": "code",
   "execution_count": 22,
   "metadata": {},
   "outputs": [
    {
     "data": {
      "text/plain": [
       "array([ 12, -45,  67,  89,  34,  -2,  -2,   6,  -7,   8])"
      ]
     },
     "execution_count": 22,
     "metadata": {},
     "output_type": "execute_result"
    }
   ],
   "source": [
    "arr4"
   ]
  },
  {
   "cell_type": "code",
   "execution_count": 23,
   "metadata": {},
   "outputs": [
    {
     "name": "stdout",
     "output_type": "stream",
     "text": [
      "[34 89 12 -2]\n"
     ]
    }
   ],
   "source": [
    "print(arr4[[4,3,0,6]])"
   ]
  },
  {
   "cell_type": "code",
   "execution_count": 24,
   "metadata": {},
   "outputs": [
    {
     "name": "stdout",
     "output_type": "stream",
     "text": [
      "[ 12 -33  34 123 157 155 153 159 152 160]\n"
     ]
    }
   ],
   "source": [
    "print(np.cumsum(arr4))"
   ]
  },
  {
   "cell_type": "code",
   "execution_count": 25,
   "metadata": {},
   "outputs": [],
   "source": [
    "x = arr4 > 10"
   ]
  },
  {
   "cell_type": "code",
   "execution_count": 26,
   "metadata": {},
   "outputs": [
    {
     "data": {
      "text/plain": [
       "array([ True, False,  True,  True,  True, False, False, False, False,\n",
       "       False])"
      ]
     },
     "execution_count": 26,
     "metadata": {},
     "output_type": "execute_result"
    }
   ],
   "source": [
    "x"
   ]
  },
  {
   "cell_type": "code",
   "execution_count": 27,
   "metadata": {},
   "outputs": [
    {
     "name": "stdout",
     "output_type": "stream",
     "text": [
      "array [[[111 112 113]\n",
      "  [121 122 123]]\n",
      "\n",
      " [[211 212 213]\n",
      "  [221 222 224]]\n",
      "\n",
      " [[311 312 313]\n",
      "  [321 322 323]]\n",
      "\n",
      " [[411 412 413]\n",
      "  [421 422 423]]]\n",
      "size 24\n",
      "shape (4, 2, 3)\n",
      "dimensions 3\n",
      "[ True False  True  True  True False False False False False]\n",
      "<class 'numpy.ndarray'>\n"
     ]
    }
   ],
   "source": [
    "d3 = np.array([ [\n",
    "                  [111, 112, 113] , \n",
    "                  [121, 122, 123] \n",
    "                ],\n",
    "                [ \n",
    "                  [211, 212, 213] , \n",
    "                  [221, 222, 224] \n",
    "                ],\n",
    "                [\n",
    "                  [311, 312, 313], \n",
    "                  [321, 322, 323]\n",
    "                ],\n",
    "                [\n",
    "                  [411, 412, 413],\n",
    "                  [421, 422, 423] \n",
    "                ]\n",
    "              ])\n",
    "print(\"array\", d3)\n",
    "print(\"size\", d3.size)\n",
    "print(\"shape\", d3.shape)\n",
    "print(\"dimensions\", d3.ndim)\n",
    "print(x)\n",
    "print(type(x))            "
   ]
  },
  {
   "cell_type": "code",
   "execution_count": 28,
   "metadata": {},
   "outputs": [
    {
     "name": "stdout",
     "output_type": "stream",
     "text": [
      "testing\n",
      "['Here' 'are' 'some' 'of' 'the' 'things' 'you’ll' 'find' 'in' 'NumPy:']\n",
      "['Here' 'are' 'some' 'of' 'the' 'find' 'in']\n",
      "\n"
     ]
    }
   ],
   "source": [
    "text = \"Here are some of the things you’ll find in NumPy:\"\n",
    "l = text.split(\" \")\n",
    "arr = np.array(text.split(\" \"))\n",
    "prn = print\n",
    "prn(\"testing\")\n",
    "print(arr)\n",
    "lnth = np.vectorize(len)\n",
    "print(arr[lnth(arr)<5])\n",
    "#print(arr[( np.vectorize(len)) (arr) <5]) \n",
    "print()\n",
    "# text1 = \"How dare you! You can't do that! Mr. Ashhad focus on the class\"\n",
    "# text1 += \"Do you want break? or if you don't want: we can practice.\"\n",
    "# print(text1) \n"
   ]
  },
  {
   "cell_type": "code",
   "execution_count": 29,
   "metadata": {},
   "outputs": [
    {
     "name": "stdout",
     "output_type": "stream",
     "text": [
      "Testing\n",
      "['Here' 'are' 'some' 'of' 'the' 'things' 'you’ll' 'find' 'in' 'NumPy']\n",
      "['Here' 'are' 'some' 'of' 'the' 'find' 'in']\n"
     ]
    }
   ],
   "source": [
    "t= \"Here are some of the things you’ll find in NumPy\"\n",
    "l = t.split(\" \")\n",
    "arr = np.array(t.split(\" \"))\n",
    "prn = print\n",
    "prn(\"Testing\")\n",
    "print(arr)\n",
    "#for a in arr:\n",
    "#    if len(a) < 5:\n",
    "#        print(a)\n",
    "\n",
    "lnth = np.vectorize(len)\n",
    "print(arr[lnth(arr)<5])\n",
    "#print(arr[(np.vectorize(len))(arr)<5]) \n",
    "\n",
    "#text1 = \"How dare you! You can't do that! Mr. Ashhad focus on the class\"\n",
    "#text1 += \"Do you want break? or if you don't want: we can practice.\"\n",
    "#print(text1) "
   ]
  },
  {
   "cell_type": "markdown",
   "metadata": {},
   "source": [
    "# *3rd Class:*"
   ]
  },
  {
   "cell_type": "code",
   "execution_count": 30,
   "metadata": {},
   "outputs": [],
   "source": [
    "a = np.arange(20)"
   ]
  },
  {
   "cell_type": "code",
   "execution_count": 31,
   "metadata": {},
   "outputs": [],
   "source": [
    "a = np.zeros([5,4,3,2])"
   ]
  },
  {
   "cell_type": "code",
   "execution_count": 32,
   "metadata": {},
   "outputs": [
    {
     "data": {
      "text/plain": [
       "array([[[[0., 0.],\n",
       "         [0., 0.],\n",
       "         [0., 0.]],\n",
       "\n",
       "        [[0., 0.],\n",
       "         [0., 0.],\n",
       "         [0., 0.]],\n",
       "\n",
       "        [[0., 0.],\n",
       "         [0., 0.],\n",
       "         [0., 0.]],\n",
       "\n",
       "        [[0., 0.],\n",
       "         [0., 0.],\n",
       "         [0., 0.]]],\n",
       "\n",
       "\n",
       "       [[[0., 0.],\n",
       "         [0., 0.],\n",
       "         [0., 0.]],\n",
       "\n",
       "        [[0., 0.],\n",
       "         [0., 0.],\n",
       "         [0., 0.]],\n",
       "\n",
       "        [[0., 0.],\n",
       "         [0., 0.],\n",
       "         [0., 0.]],\n",
       "\n",
       "        [[0., 0.],\n",
       "         [0., 0.],\n",
       "         [0., 0.]]],\n",
       "\n",
       "\n",
       "       [[[0., 0.],\n",
       "         [0., 0.],\n",
       "         [0., 0.]],\n",
       "\n",
       "        [[0., 0.],\n",
       "         [0., 0.],\n",
       "         [0., 0.]],\n",
       "\n",
       "        [[0., 0.],\n",
       "         [0., 0.],\n",
       "         [0., 0.]],\n",
       "\n",
       "        [[0., 0.],\n",
       "         [0., 0.],\n",
       "         [0., 0.]]],\n",
       "\n",
       "\n",
       "       [[[0., 0.],\n",
       "         [0., 0.],\n",
       "         [0., 0.]],\n",
       "\n",
       "        [[0., 0.],\n",
       "         [0., 0.],\n",
       "         [0., 0.]],\n",
       "\n",
       "        [[0., 0.],\n",
       "         [0., 0.],\n",
       "         [0., 0.]],\n",
       "\n",
       "        [[0., 0.],\n",
       "         [0., 0.],\n",
       "         [0., 0.]]],\n",
       "\n",
       "\n",
       "       [[[0., 0.],\n",
       "         [0., 0.],\n",
       "         [0., 0.]],\n",
       "\n",
       "        [[0., 0.],\n",
       "         [0., 0.],\n",
       "         [0., 0.]],\n",
       "\n",
       "        [[0., 0.],\n",
       "         [0., 0.],\n",
       "         [0., 0.]],\n",
       "\n",
       "        [[0., 0.],\n",
       "         [0., 0.],\n",
       "         [0., 0.]]]])"
      ]
     },
     "execution_count": 32,
     "metadata": {},
     "output_type": "execute_result"
    }
   ],
   "source": [
    "a"
   ]
  },
  {
   "cell_type": "code",
   "execution_count": 33,
   "metadata": {},
   "outputs": [
    {
     "data": {
      "text/plain": [
       "(5, 4, 3, 2)"
      ]
     },
     "execution_count": 33,
     "metadata": {},
     "output_type": "execute_result"
    }
   ],
   "source": [
    "a.shape"
   ]
  },
  {
   "cell_type": "code",
   "execution_count": 34,
   "metadata": {},
   "outputs": [
    {
     "data": {
      "text/plain": [
       "4"
      ]
     },
     "execution_count": 34,
     "metadata": {},
     "output_type": "execute_result"
    }
   ],
   "source": [
    "a.ndim"
   ]
  },
  {
   "cell_type": "code",
   "execution_count": 35,
   "metadata": {},
   "outputs": [],
   "source": [
    "a[:1,:1] = 5"
   ]
  },
  {
   "cell_type": "code",
   "execution_count": 36,
   "metadata": {},
   "outputs": [
    {
     "data": {
      "text/plain": [
       "array([[[[5., 5.],\n",
       "         [5., 5.],\n",
       "         [5., 5.]],\n",
       "\n",
       "        [[0., 0.],\n",
       "         [0., 0.],\n",
       "         [0., 0.]],\n",
       "\n",
       "        [[0., 0.],\n",
       "         [0., 0.],\n",
       "         [0., 0.]],\n",
       "\n",
       "        [[0., 0.],\n",
       "         [0., 0.],\n",
       "         [0., 0.]]],\n",
       "\n",
       "\n",
       "       [[[0., 0.],\n",
       "         [0., 0.],\n",
       "         [0., 0.]],\n",
       "\n",
       "        [[0., 0.],\n",
       "         [0., 0.],\n",
       "         [0., 0.]],\n",
       "\n",
       "        [[0., 0.],\n",
       "         [0., 0.],\n",
       "         [0., 0.]],\n",
       "\n",
       "        [[0., 0.],\n",
       "         [0., 0.],\n",
       "         [0., 0.]]],\n",
       "\n",
       "\n",
       "       [[[0., 0.],\n",
       "         [0., 0.],\n",
       "         [0., 0.]],\n",
       "\n",
       "        [[0., 0.],\n",
       "         [0., 0.],\n",
       "         [0., 0.]],\n",
       "\n",
       "        [[0., 0.],\n",
       "         [0., 0.],\n",
       "         [0., 0.]],\n",
       "\n",
       "        [[0., 0.],\n",
       "         [0., 0.],\n",
       "         [0., 0.]]],\n",
       "\n",
       "\n",
       "       [[[0., 0.],\n",
       "         [0., 0.],\n",
       "         [0., 0.]],\n",
       "\n",
       "        [[0., 0.],\n",
       "         [0., 0.],\n",
       "         [0., 0.]],\n",
       "\n",
       "        [[0., 0.],\n",
       "         [0., 0.],\n",
       "         [0., 0.]],\n",
       "\n",
       "        [[0., 0.],\n",
       "         [0., 0.],\n",
       "         [0., 0.]]],\n",
       "\n",
       "\n",
       "       [[[0., 0.],\n",
       "         [0., 0.],\n",
       "         [0., 0.]],\n",
       "\n",
       "        [[0., 0.],\n",
       "         [0., 0.],\n",
       "         [0., 0.]],\n",
       "\n",
       "        [[0., 0.],\n",
       "         [0., 0.],\n",
       "         [0., 0.]],\n",
       "\n",
       "        [[0., 0.],\n",
       "         [0., 0.],\n",
       "         [0., 0.]]]])"
      ]
     },
     "execution_count": 36,
     "metadata": {},
     "output_type": "execute_result"
    }
   ],
   "source": [
    "a"
   ]
  },
  {
   "cell_type": "code",
   "execution_count": 37,
   "metadata": {},
   "outputs": [
    {
     "data": {
      "text/plain": [
       "array([[[[0., 5., 0.],\n",
       "         [0., 0., 0.]],\n",
       "\n",
       "        [[0., 0., 0.],\n",
       "         [0., 0., 0.]],\n",
       "\n",
       "        [[0., 0., 0.],\n",
       "         [0., 0., 0.]]],\n",
       "\n",
       "\n",
       "       [[[0., 0., 0.],\n",
       "         [0., 0., 0.]],\n",
       "\n",
       "        [[0., 0., 0.],\n",
       "         [0., 0., 0.]],\n",
       "\n",
       "        [[0., 0., 0.],\n",
       "         [0., 0., 0.]]]])"
      ]
     },
     "execution_count": 37,
     "metadata": {},
     "output_type": "execute_result"
    }
   ],
   "source": [
    "a = np.zeros([2,3,2,3])\n",
    "a[0,0,0,1] = 5\n",
    "a"
   ]
  },
  {
   "cell_type": "code",
   "execution_count": 38,
   "metadata": {},
   "outputs": [
    {
     "data": {
      "text/plain": [
       "array([[[[0., 0., 0.],\n",
       "         [0., 0., 0.]],\n",
       "\n",
       "        [[0., 0., 0.],\n",
       "         [0., 0., 0.]],\n",
       "\n",
       "        [[0., 0., 0.],\n",
       "         [0., 0., 0.]]],\n",
       "\n",
       "\n",
       "       [[[0., 0., 0.],\n",
       "         [0., 0., 0.]],\n",
       "\n",
       "        [[0., 7., 7.],\n",
       "         [0., 0., 0.]],\n",
       "\n",
       "        [[0., 0., 0.],\n",
       "         [0., 0., 0.]]]])"
      ]
     },
     "execution_count": 38,
     "metadata": {},
     "output_type": "execute_result"
    }
   ],
   "source": [
    "x = np.zeros([2,3,2,3])\n",
    "x[1,1,0,1:3] = 7\n",
    "x"
   ]
  },
  {
   "cell_type": "markdown",
   "metadata": {},
   "source": [
    "### absolute function [np.abs]"
   ]
  },
  {
   "cell_type": "code",
   "execution_count": 39,
   "metadata": {},
   "outputs": [],
   "source": [
    "np.fabs?"
   ]
  },
  {
   "cell_type": "code",
   "execution_count": 40,
   "metadata": {},
   "outputs": [],
   "source": [
    "arr = np.zeros(4)"
   ]
  },
  {
   "cell_type": "code",
   "execution_count": 41,
   "metadata": {},
   "outputs": [
    {
     "data": {
      "text/plain": [
       "array([-1., -1., -1., -1.])"
      ]
     },
     "execution_count": 41,
     "metadata": {},
     "output_type": "execute_result"
    }
   ],
   "source": [
    "arr = arr + (-1)\n",
    "arr"
   ]
  },
  {
   "cell_type": "code",
   "execution_count": 42,
   "metadata": {},
   "outputs": [
    {
     "data": {
      "text/plain": [
       "array([1., 1., 1., 1.])"
      ]
     },
     "execution_count": 42,
     "metadata": {},
     "output_type": "execute_result"
    }
   ],
   "source": [
    "np.abs(arr)"
   ]
  },
  {
   "cell_type": "markdown",
   "metadata": {},
   "source": [
    "### np.where"
   ]
  },
  {
   "cell_type": "code",
   "execution_count": 43,
   "metadata": {},
   "outputs": [
    {
     "data": {
      "text/plain": [
       "array([  0,   1,   2,   3,   4,   5,   6,   7,   8,   9, 100, 110, 120,\n",
       "       130, 140, 150, 160, 170, 180, 190])"
      ]
     },
     "execution_count": 43,
     "metadata": {},
     "output_type": "execute_result"
    }
   ],
   "source": [
    "x = np.arange(20)\n",
    "np.where(x<10,x,x*10)"
   ]
  },
  {
   "cell_type": "code",
   "execution_count": 44,
   "metadata": {},
   "outputs": [
    {
     "data": {
      "text/plain": [
       "array([ True,  True,  True,  True,  True,  True,  True,  True,  True,\n",
       "        True, False, False, False, False, False, False, False, False,\n",
       "       False, False])"
      ]
     },
     "execution_count": 44,
     "metadata": {},
     "output_type": "execute_result"
    }
   ],
   "source": [
    "x<10"
   ]
  },
  {
   "cell_type": "markdown",
   "metadata": {},
   "source": [
    "### mean, cumsum, cumprod, sum(), any(), all():"
   ]
  },
  {
   "cell_type": "code",
   "execution_count": 45,
   "metadata": {},
   "outputs": [],
   "source": [
    "a = np.arange(10)"
   ]
  },
  {
   "cell_type": "code",
   "execution_count": 46,
   "metadata": {},
   "outputs": [
    {
     "data": {
      "text/plain": [
       "array([0, 1, 2, 3, 4, 5, 6, 7, 8, 9])"
      ]
     },
     "execution_count": 46,
     "metadata": {},
     "output_type": "execute_result"
    }
   ],
   "source": [
    "a"
   ]
  },
  {
   "cell_type": "code",
   "execution_count": 47,
   "metadata": {},
   "outputs": [],
   "source": [
    "b = np.arange(20)"
   ]
  },
  {
   "cell_type": "code",
   "execution_count": 48,
   "metadata": {},
   "outputs": [
    {
     "data": {
      "text/plain": [
       "array([ 0,  1,  2,  3,  4,  5,  6,  7,  8,  9, 10, 11, 12, 13, 14, 15, 16,\n",
       "       17, 18, 19])"
      ]
     },
     "execution_count": 48,
     "metadata": {},
     "output_type": "execute_result"
    }
   ],
   "source": [
    "b"
   ]
  },
  {
   "cell_type": "code",
   "execution_count": 49,
   "metadata": {},
   "outputs": [
    {
     "data": {
      "text/plain": [
       "9.5"
      ]
     },
     "execution_count": 49,
     "metadata": {},
     "output_type": "execute_result"
    }
   ],
   "source": [
    "b.mean()"
   ]
  },
  {
   "cell_type": "code",
   "execution_count": 50,
   "metadata": {},
   "outputs": [
    {
     "data": {
      "text/plain": [
       "4.5"
      ]
     },
     "execution_count": 50,
     "metadata": {},
     "output_type": "execute_result"
    }
   ],
   "source": [
    "a.mean()"
   ]
  },
  {
   "cell_type": "code",
   "execution_count": 51,
   "metadata": {},
   "outputs": [
    {
     "data": {
      "text/plain": [
       "array([ 0,  1,  3,  6, 10, 15, 21, 28, 36, 45], dtype=int32)"
      ]
     },
     "execution_count": 51,
     "metadata": {},
     "output_type": "execute_result"
    }
   ],
   "source": [
    "a.cumsum()"
   ]
  },
  {
   "cell_type": "code",
   "execution_count": 52,
   "metadata": {},
   "outputs": [],
   "source": [
    "x = np.array([1,2,3,4,5])"
   ]
  },
  {
   "cell_type": "code",
   "execution_count": 53,
   "metadata": {},
   "outputs": [
    {
     "data": {
      "text/plain": [
       "array([  1,   2,   6,  24, 120], dtype=int32)"
      ]
     },
     "execution_count": 53,
     "metadata": {},
     "output_type": "execute_result"
    }
   ],
   "source": [
    "x.cumprod()"
   ]
  },
  {
   "cell_type": "markdown",
   "metadata": {},
   "source": [
    "### np.unique & np.sort:"
   ]
  },
  {
   "cell_type": "code",
   "execution_count": 54,
   "metadata": {},
   "outputs": [],
   "source": [
    "y = np.array([1,1,33,33,45,67,67])"
   ]
  },
  {
   "cell_type": "code",
   "execution_count": 55,
   "metadata": {},
   "outputs": [
    {
     "data": {
      "text/plain": [
       "array([ 1, 33, 45, 67])"
      ]
     },
     "execution_count": 55,
     "metadata": {},
     "output_type": "execute_result"
    }
   ],
   "source": [
    "np.unique(y)"
   ]
  },
  {
   "cell_type": "code",
   "execution_count": 56,
   "metadata": {},
   "outputs": [
    {
     "data": {
      "text/plain": [
       "array([ 1,  1, 33, 33, 45, 67, 67])"
      ]
     },
     "execution_count": 56,
     "metadata": {},
     "output_type": "execute_result"
    }
   ],
   "source": [
    "np.sort(y)"
   ]
  },
  {
   "cell_type": "markdown",
   "metadata": {},
   "source": [
    "### save, load & savez:"
   ]
  },
  {
   "cell_type": "code",
   "execution_count": 57,
   "metadata": {},
   "outputs": [],
   "source": [
    "a = [1,2,3,4]"
   ]
  },
  {
   "cell_type": "code",
   "execution_count": 58,
   "metadata": {},
   "outputs": [],
   "source": [
    "np.save(\"list.npy\",a)"
   ]
  },
  {
   "cell_type": "code",
   "execution_count": 59,
   "metadata": {},
   "outputs": [
    {
     "data": {
      "text/plain": [
       "array([1, 2, 3, 4])"
      ]
     },
     "execution_count": 59,
     "metadata": {},
     "output_type": "execute_result"
    }
   ],
   "source": [
    "np.load(\"list.npy\")"
   ]
  },
  {
   "cell_type": "code",
   "execution_count": 60,
   "metadata": {},
   "outputs": [],
   "source": [
    "a = [1,2,3]\n",
    "b = [3,4,5]"
   ]
  },
  {
   "cell_type": "code",
   "execution_count": 61,
   "metadata": {},
   "outputs": [],
   "source": [
    "np.savez(\"abd\",a=a, b=b)"
   ]
  },
  {
   "cell_type": "code",
   "execution_count": 62,
   "metadata": {},
   "outputs": [],
   "source": [
    "s = np.load(\"abd.npz\")"
   ]
  },
  {
   "cell_type": "code",
   "execution_count": 63,
   "metadata": {},
   "outputs": [
    {
     "data": {
      "text/plain": [
       "<numpy.lib.npyio.NpzFile at 0x227115397f0>"
      ]
     },
     "execution_count": 63,
     "metadata": {},
     "output_type": "execute_result"
    }
   ],
   "source": [
    "s"
   ]
  },
  {
   "cell_type": "code",
   "execution_count": 64,
   "metadata": {},
   "outputs": [
    {
     "data": {
      "text/plain": [
       "array([1, 2, 3])"
      ]
     },
     "execution_count": 64,
     "metadata": {},
     "output_type": "execute_result"
    }
   ],
   "source": [
    "s[\"a\"]"
   ]
  },
  {
   "cell_type": "code",
   "execution_count": 65,
   "metadata": {},
   "outputs": [
    {
     "data": {
      "text/plain": [
       "array([3, 4, 5])"
      ]
     },
     "execution_count": 65,
     "metadata": {},
     "output_type": "execute_result"
    }
   ],
   "source": [
    "s[\"b\"]"
   ]
  },
  {
   "cell_type": "markdown",
   "metadata": {},
   "source": [
    "### Seed:"
   ]
  },
  {
   "cell_type": "code",
   "execution_count": 66,
   "metadata": {},
   "outputs": [
    {
     "name": "stdout",
     "output_type": "stream",
     "text": [
      "[0.07630829 0.77991879 0.43840923]\n"
     ]
    }
   ],
   "source": [
    "np.random.seed(7)\n",
    "perm = np.random.rand(3)\n",
    "print(perm)"
   ]
  },
  {
   "cell_type": "code",
   "execution_count": 67,
   "metadata": {},
   "outputs": [
    {
     "name": "stdout",
     "output_type": "stream",
     "text": [
      "[0.07630829 0.77991879 0.43840923]\n"
     ]
    }
   ],
   "source": [
    "np.random.seed(7)\n",
    "print(np.random.rand(3))"
   ]
  },
  {
   "cell_type": "markdown",
   "metadata": {},
   "source": [
    "### Order \"C\" and \"F\":"
   ]
  },
  {
   "cell_type": "code",
   "execution_count": 68,
   "metadata": {},
   "outputs": [
    {
     "data": {
      "text/plain": [
       "array([[ 1,  4,  7, 10],\n",
       "       [ 2,  5,  8, 11],\n",
       "       [ 3,  6,  9, 12]])"
      ]
     },
     "execution_count": 68,
     "metadata": {},
     "output_type": "execute_result"
    }
   ],
   "source": [
    "arr = np.arange(1,13)\n",
    "arr.reshape((3,4),order = \"F\")"
   ]
  },
  {
   "cell_type": "code",
   "execution_count": 69,
   "metadata": {},
   "outputs": [
    {
     "data": {
      "text/plain": [
       "array([[ 1,  2,  3,  4],\n",
       "       [ 5,  6,  7,  8],\n",
       "       [ 9, 10, 11, 12]])"
      ]
     },
     "execution_count": 69,
     "metadata": {},
     "output_type": "execute_result"
    }
   ],
   "source": [
    "arr = np.arange(1,13)\n",
    "arr.reshape((3,4),order = \"C\")"
   ]
  },
  {
   "cell_type": "markdown",
   "metadata": {},
   "source": [
    "### split:"
   ]
  },
  {
   "cell_type": "code",
   "execution_count": 70,
   "metadata": {},
   "outputs": [
    {
     "data": {
      "text/plain": [
       "array([10, 20, 30, 40, 50, 60, 70, 80, 90])"
      ]
     },
     "execution_count": 70,
     "metadata": {},
     "output_type": "execute_result"
    }
   ],
   "source": [
    "arr = np.arange(10,100,10)\n",
    "arr"
   ]
  },
  {
   "cell_type": "code",
   "execution_count": 71,
   "metadata": {},
   "outputs": [
    {
     "data": {
      "text/plain": [
       "[array([10, 20]), array([30, 40, 50, 60]), array([70, 80, 90])]"
      ]
     },
     "execution_count": 71,
     "metadata": {},
     "output_type": "execute_result"
    }
   ],
   "source": [
    "np.split(arr,[2,6])"
   ]
  },
  {
   "cell_type": "code",
   "execution_count": 72,
   "metadata": {},
   "outputs": [],
   "source": [
    "arr = np.arange(10,110,10)"
   ]
  },
  {
   "cell_type": "code",
   "execution_count": 73,
   "metadata": {},
   "outputs": [
    {
     "data": {
      "text/plain": [
       "array([ 10,  20,  30,  40,  50,  60,  70,  80,  90, 100])"
      ]
     },
     "execution_count": 73,
     "metadata": {},
     "output_type": "execute_result"
    }
   ],
   "source": [
    "arr"
   ]
  },
  {
   "cell_type": "code",
   "execution_count": 74,
   "metadata": {},
   "outputs": [
    {
     "data": {
      "text/plain": [
       "[array([10, 20]),\n",
       " array([30, 40]),\n",
       " array([50, 60]),\n",
       " array([70, 80]),\n",
       " array([ 90, 100])]"
      ]
     },
     "execution_count": 74,
     "metadata": {},
     "output_type": "execute_result"
    }
   ],
   "source": [
    "np.split(arr,[2,4,6,8])"
   ]
  },
  {
   "cell_type": "code",
   "execution_count": null,
   "metadata": {},
   "outputs": [],
   "source": []
  }
 ],
 "metadata": {
  "kernelspec": {
   "display_name": "Python 3",
   "language": "python",
   "name": "python3"
  },
  "language_info": {
   "codemirror_mode": {
    "name": "ipython",
    "version": 3
   },
   "file_extension": ".py",
   "mimetype": "text/x-python",
   "name": "python",
   "nbconvert_exporter": "python",
   "pygments_lexer": "ipython3",
   "version": "3.7.3"
  }
 },
 "nbformat": 4,
 "nbformat_minor": 2
}
