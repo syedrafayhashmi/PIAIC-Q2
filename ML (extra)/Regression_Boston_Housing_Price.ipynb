{
  "nbformat": 4,
  "nbformat_minor": 0,
  "metadata": {
    "colab": {
      "name": "Regression-Boston Housing Price.ipynb",
      "provenance": [],
      "collapsed_sections": []
    },
    "kernelspec": {
      "name": "python3",
      "display_name": "Python 3"
    }
  },
  "cells": [
    {
      "cell_type": "code",
      "metadata": {
        "id": "_yak4xxaGtVe",
        "colab_type": "code",
        "outputId": "fa5617f4-338f-45c3-94be-2937124040ab",
        "colab": {
          "base_uri": "https://localhost:8080/",
          "height": 1000
        }
      },
      "source": [
        "!pip install tensorflow --upgrade"
      ],
      "execution_count": 0,
      "outputs": [
        {
          "output_type": "stream",
          "text": [
            "Collecting tensorflow\n",
            "\u001b[?25l  Downloading https://files.pythonhosted.org/packages/46/0f/7bd55361168bb32796b360ad15a25de6966c9c1beb58a8e30c01c8279862/tensorflow-2.0.0-cp36-cp36m-manylinux2010_x86_64.whl (86.3MB)\n",
            "\u001b[K     |████████████████████████████████| 86.3MB 67kB/s \n",
            "\u001b[?25hRequirement already satisfied, skipping upgrade: numpy<2.0,>=1.16.0 in /usr/local/lib/python3.6/dist-packages (from tensorflow) (1.17.4)\n",
            "Requirement already satisfied, skipping upgrade: keras-applications>=1.0.8 in /usr/local/lib/python3.6/dist-packages (from tensorflow) (1.0.8)\n",
            "Requirement already satisfied, skipping upgrade: wheel>=0.26 in /usr/local/lib/python3.6/dist-packages (from tensorflow) (0.33.6)\n",
            "Requirement already satisfied, skipping upgrade: absl-py>=0.7.0 in /usr/local/lib/python3.6/dist-packages (from tensorflow) (0.8.1)\n",
            "Requirement already satisfied, skipping upgrade: protobuf>=3.6.1 in /usr/local/lib/python3.6/dist-packages (from tensorflow) (3.10.0)\n",
            "Requirement already satisfied, skipping upgrade: keras-preprocessing>=1.0.5 in /usr/local/lib/python3.6/dist-packages (from tensorflow) (1.1.0)\n",
            "Requirement already satisfied, skipping upgrade: astor>=0.6.0 in /usr/local/lib/python3.6/dist-packages (from tensorflow) (0.8.1)\n",
            "Requirement already satisfied, skipping upgrade: wrapt>=1.11.1 in /usr/local/lib/python3.6/dist-packages (from tensorflow) (1.11.2)\n",
            "Collecting tensorflow-estimator<2.1.0,>=2.0.0\n",
            "\u001b[?25l  Downloading https://files.pythonhosted.org/packages/fc/08/8b927337b7019c374719145d1dceba21a8bb909b93b1ad6f8fb7d22c1ca1/tensorflow_estimator-2.0.1-py2.py3-none-any.whl (449kB)\n",
            "\u001b[K     |████████████████████████████████| 450kB 45.8MB/s \n",
            "\u001b[?25hRequirement already satisfied, skipping upgrade: google-pasta>=0.1.6 in /usr/local/lib/python3.6/dist-packages (from tensorflow) (0.1.8)\n",
            "Requirement already satisfied, skipping upgrade: opt-einsum>=2.3.2 in /usr/local/lib/python3.6/dist-packages (from tensorflow) (3.1.0)\n",
            "Requirement already satisfied, skipping upgrade: grpcio>=1.8.6 in /usr/local/lib/python3.6/dist-packages (from tensorflow) (1.15.0)\n",
            "Requirement already satisfied, skipping upgrade: six>=1.10.0 in /usr/local/lib/python3.6/dist-packages (from tensorflow) (1.12.0)\n",
            "Requirement already satisfied, skipping upgrade: gast==0.2.2 in /usr/local/lib/python3.6/dist-packages (from tensorflow) (0.2.2)\n",
            "Collecting tensorboard<2.1.0,>=2.0.0\n",
            "\u001b[?25l  Downloading https://files.pythonhosted.org/packages/76/54/99b9d5d52d5cb732f099baaaf7740403e83fe6b0cedde940fabd2b13d75a/tensorboard-2.0.2-py3-none-any.whl (3.8MB)\n",
            "\u001b[K     |████████████████████████████████| 3.8MB 33.1MB/s \n",
            "\u001b[?25hRequirement already satisfied, skipping upgrade: termcolor>=1.1.0 in /usr/local/lib/python3.6/dist-packages (from tensorflow) (1.1.0)\n",
            "Requirement already satisfied, skipping upgrade: h5py in /usr/local/lib/python3.6/dist-packages (from keras-applications>=1.0.8->tensorflow) (2.8.0)\n",
            "Requirement already satisfied, skipping upgrade: setuptools in /usr/local/lib/python3.6/dist-packages (from protobuf>=3.6.1->tensorflow) (42.0.2)\n",
            "Requirement already satisfied, skipping upgrade: requests<3,>=2.21.0 in /usr/local/lib/python3.6/dist-packages (from tensorboard<2.1.0,>=2.0.0->tensorflow) (2.21.0)\n",
            "Requirement already satisfied, skipping upgrade: markdown>=2.6.8 in /usr/local/lib/python3.6/dist-packages (from tensorboard<2.1.0,>=2.0.0->tensorflow) (3.1.1)\n",
            "Requirement already satisfied, skipping upgrade: google-auth-oauthlib<0.5,>=0.4.1 in /usr/local/lib/python3.6/dist-packages (from tensorboard<2.1.0,>=2.0.0->tensorflow) (0.4.1)\n",
            "Requirement already satisfied, skipping upgrade: werkzeug>=0.11.15 in /usr/local/lib/python3.6/dist-packages (from tensorboard<2.1.0,>=2.0.0->tensorflow) (0.16.0)\n",
            "Collecting google-auth<2,>=1.6.3\n",
            "\u001b[?25l  Downloading https://files.pythonhosted.org/packages/36/f8/84b5771faec3eba9fe0c91c8c5896364a8ba08852c0dea5ad2025026dd95/google_auth-1.10.0-py2.py3-none-any.whl (76kB)\n",
            "\u001b[K     |████████████████████████████████| 81kB 10.0MB/s \n",
            "\u001b[?25hRequirement already satisfied, skipping upgrade: chardet<3.1.0,>=3.0.2 in /usr/local/lib/python3.6/dist-packages (from requests<3,>=2.21.0->tensorboard<2.1.0,>=2.0.0->tensorflow) (3.0.4)\n",
            "Requirement already satisfied, skipping upgrade: certifi>=2017.4.17 in /usr/local/lib/python3.6/dist-packages (from requests<3,>=2.21.0->tensorboard<2.1.0,>=2.0.0->tensorflow) (2019.11.28)\n",
            "Requirement already satisfied, skipping upgrade: urllib3<1.25,>=1.21.1 in /usr/local/lib/python3.6/dist-packages (from requests<3,>=2.21.0->tensorboard<2.1.0,>=2.0.0->tensorflow) (1.24.3)\n",
            "Requirement already satisfied, skipping upgrade: idna<2.9,>=2.5 in /usr/local/lib/python3.6/dist-packages (from requests<3,>=2.21.0->tensorboard<2.1.0,>=2.0.0->tensorflow) (2.8)\n",
            "Requirement already satisfied, skipping upgrade: requests-oauthlib>=0.7.0 in /usr/local/lib/python3.6/dist-packages (from google-auth-oauthlib<0.5,>=0.4.1->tensorboard<2.1.0,>=2.0.0->tensorflow) (1.3.0)\n",
            "Requirement already satisfied, skipping upgrade: rsa<4.1,>=3.1.4 in /usr/local/lib/python3.6/dist-packages (from google-auth<2,>=1.6.3->tensorboard<2.1.0,>=2.0.0->tensorflow) (4.0)\n",
            "Requirement already satisfied, skipping upgrade: pyasn1-modules>=0.2.1 in /usr/local/lib/python3.6/dist-packages (from google-auth<2,>=1.6.3->tensorboard<2.1.0,>=2.0.0->tensorflow) (0.2.7)\n",
            "Requirement already satisfied, skipping upgrade: cachetools<5.0,>=2.0.0 in /usr/local/lib/python3.6/dist-packages (from google-auth<2,>=1.6.3->tensorboard<2.1.0,>=2.0.0->tensorflow) (4.0.0)\n",
            "Requirement already satisfied, skipping upgrade: oauthlib>=3.0.0 in /usr/local/lib/python3.6/dist-packages (from requests-oauthlib>=0.7.0->google-auth-oauthlib<0.5,>=0.4.1->tensorboard<2.1.0,>=2.0.0->tensorflow) (3.1.0)\n",
            "Requirement already satisfied, skipping upgrade: pyasn1>=0.1.3 in /usr/local/lib/python3.6/dist-packages (from rsa<4.1,>=3.1.4->google-auth<2,>=1.6.3->tensorboard<2.1.0,>=2.0.0->tensorflow) (0.4.8)\n",
            "\u001b[31mERROR: tensorboard 2.0.2 has requirement grpcio>=1.24.3, but you'll have grpcio 1.15.0 which is incompatible.\u001b[0m\n",
            "\u001b[31mERROR: google-colab 1.0.0 has requirement google-auth~=1.4.0, but you'll have google-auth 1.10.0 which is incompatible.\u001b[0m\n",
            "Installing collected packages: tensorflow-estimator, google-auth, tensorboard, tensorflow\n",
            "  Found existing installation: tensorflow-estimator 1.15.1\n",
            "    Uninstalling tensorflow-estimator-1.15.1:\n",
            "      Successfully uninstalled tensorflow-estimator-1.15.1\n",
            "  Found existing installation: google-auth 1.4.2\n",
            "    Uninstalling google-auth-1.4.2:\n",
            "      Successfully uninstalled google-auth-1.4.2\n",
            "  Found existing installation: tensorboard 1.15.0\n",
            "    Uninstalling tensorboard-1.15.0:\n",
            "      Successfully uninstalled tensorboard-1.15.0\n",
            "  Found existing installation: tensorflow 1.15.0\n",
            "    Uninstalling tensorflow-1.15.0:\n",
            "      Successfully uninstalled tensorflow-1.15.0\n",
            "Successfully installed google-auth-1.10.0 tensorboard-2.0.2 tensorflow-2.0.0 tensorflow-estimator-2.0.1\n"
          ],
          "name": "stdout"
        },
        {
          "output_type": "display_data",
          "data": {
            "application/vnd.colab-display-data+json": {
              "pip_warning": {
                "packages": [
                  "google"
                ]
              }
            }
          },
          "metadata": {
            "tags": []
          }
        }
      ]
    },
    {
      "cell_type": "markdown",
      "metadata": {
        "id": "J-8ZZw7KHT78",
        "colab_type": "text"
      },
      "source": [
        "# Importing packages"
      ]
    },
    {
      "cell_type": "code",
      "metadata": {
        "id": "N6Wfxi80G3T1",
        "colab_type": "code",
        "colab": {}
      },
      "source": [
        "import tensorflow as tf\n",
        "from tensorflow.keras.datasets import boston_housing\n",
        "from tensorflow.keras import models, layers, optimizers, utils\n",
        "import numpy as np\n",
        "import matplotlib.pyplot as plt\n"
      ],
      "execution_count": 0,
      "outputs": []
    },
    {
      "cell_type": "markdown",
      "metadata": {
        "id": "VbK0RQUlHauN",
        "colab_type": "text"
      },
      "source": [
        "#Loading Dataset"
      ]
    },
    {
      "cell_type": "code",
      "metadata": {
        "id": "edd5YVBaHZz-",
        "colab_type": "code",
        "outputId": "d4ab63e7-c24f-46bf-956f-9ea37ab8f365",
        "colab": {
          "base_uri": "https://localhost:8080/",
          "height": 544
        }
      },
      "source": [
        "(train_data, train_targets), (test_data, test_targets) = boston_housing.load_data()\n",
        "print(train_data.shape)\n",
        "print(test_data.shape)\n",
        "print(train_targets)"
      ],
      "execution_count": 0,
      "outputs": [
        {
          "output_type": "stream",
          "text": [
            "(404, 13)\n",
            "(102, 13)\n",
            "[15.2 42.3 50.  21.1 17.7 18.5 11.3 15.6 15.6 14.4 12.1 17.9 23.1 19.9\n",
            " 15.7  8.8 50.  22.5 24.1 27.5 10.9 30.8 32.9 24.  18.5 13.3 22.9 34.7\n",
            " 16.6 17.5 22.3 16.1 14.9 23.1 34.9 25.  13.9 13.1 20.4 20.  15.2 24.7\n",
            " 22.2 16.7 12.7 15.6 18.4 21.  30.1 15.1 18.7  9.6 31.5 24.8 19.1 22.\n",
            " 14.5 11.  32.  29.4 20.3 24.4 14.6 19.5 14.1 14.3 15.6 10.5  6.3 19.3\n",
            " 19.3 13.4 36.4 17.8 13.5 16.5  8.3 14.3 16.  13.4 28.6 43.5 20.2 22.\n",
            " 23.  20.7 12.5 48.5 14.6 13.4 23.7 50.  21.7 39.8 38.7 22.2 34.9 22.5\n",
            " 31.1 28.7 46.  41.7 21.  26.6 15.  24.4 13.3 21.2 11.7 21.7 19.4 50.\n",
            " 22.8 19.7 24.7 36.2 14.2 18.9 18.3 20.6 24.6 18.2  8.7 44.  10.4 13.2\n",
            " 21.2 37.  30.7 22.9 20.  19.3 31.7 32.  23.1 18.8 10.9 50.  19.6  5.\n",
            " 14.4 19.8 13.8 19.6 23.9 24.5 25.  19.9 17.2 24.6 13.5 26.6 21.4 11.9\n",
            " 22.6 19.6  8.5 23.7 23.1 22.4 20.5 23.6 18.4 35.2 23.1 27.9 20.6 23.7\n",
            " 28.  13.6 27.1 23.6 20.6 18.2 21.7 17.1  8.4 25.3 13.8 22.2 18.4 20.7\n",
            " 31.6 30.5 20.3  8.8 19.2 19.4 23.1 23.  14.8 48.8 22.6 33.4 21.1 13.6\n",
            " 32.2 13.1 23.4 18.9 23.9 11.8 23.3 22.8 19.6 16.7 13.4 22.2 20.4 21.8\n",
            " 26.4 14.9 24.1 23.8 12.3 29.1 21.  19.5 23.3 23.8 17.8 11.5 21.7 19.9\n",
            " 25.  33.4 28.5 21.4 24.3 27.5 33.1 16.2 23.3 48.3 22.9 22.8 13.1 12.7\n",
            " 22.6 15.  15.3 10.5 24.  18.5 21.7 19.5 33.2 23.2  5.  19.1 12.7 22.3\n",
            " 10.2 13.9 16.3 17.  20.1 29.9 17.2 37.3 45.4 17.8 23.2 29.  22.  18.\n",
            " 17.4 34.6 20.1 25.  15.6 24.8 28.2 21.2 21.4 23.8 31.  26.2 17.4 37.9\n",
            " 17.5 20.   8.3 23.9  8.4 13.8  7.2 11.7 17.1 21.6 50.  16.1 20.4 20.6\n",
            " 21.4 20.6 36.5  8.5 24.8 10.8 21.9 17.3 18.9 36.2 14.9 18.2 33.3 21.8\n",
            " 19.7 31.6 24.8 19.4 22.8  7.5 44.8 16.8 18.7 50.  50.  19.5 20.1 50.\n",
            " 17.2 20.8 19.3 41.3 20.4 20.5 13.8 16.5 23.9 20.6 31.5 23.3 16.8 14.\n",
            " 33.8 36.1 12.8 18.3 18.7 19.1 29.  30.1 50.  50.  22.  11.9 37.6 50.\n",
            " 22.7 20.8 23.5 27.9 50.  19.3 23.9 22.6 15.2 21.7 19.2 43.8 20.3 33.2\n",
            " 19.9 22.5 32.7 22.  17.1 19.  15.  16.1 25.1 23.7 28.7 37.2 22.6 16.4\n",
            " 25.  29.8 22.1 17.4 18.1 30.3 17.5 24.7 12.6 26.5 28.7 13.3 10.4 24.4\n",
            " 23.  20.  17.8  7.  11.8 24.4 13.8 19.4 25.2 19.4 19.4 29.1]\n"
          ],
          "name": "stdout"
        }
      ]
    },
    {
      "cell_type": "markdown",
      "metadata": {
        "id": "US6O77JKHw-R",
        "colab_type": "text"
      },
      "source": [
        "# Preparing the data"
      ]
    },
    {
      "cell_type": "code",
      "metadata": {
        "id": "czGEtO3xHQob",
        "colab_type": "code",
        "colab": {}
      },
      "source": [
        "mean = train_data.mean(axis=0)\n",
        "train_data -= mean\n",
        "std = train_data.std(axis=0)\n",
        "train_data /= std\n",
        "test_data -= mean\n",
        "test_data /= std"
      ],
      "execution_count": 0,
      "outputs": []
    },
    {
      "cell_type": "markdown",
      "metadata": {
        "id": "wcMiJEbUIDFT",
        "colab_type": "text"
      },
      "source": [
        "# Building Model"
      ]
    },
    {
      "cell_type": "code",
      "metadata": {
        "id": "72fmcmczIE-o",
        "colab_type": "code",
        "colab": {}
      },
      "source": [
        "def build_model():\n",
        "  model = models.Sequential()\n",
        "  model.add(layers.Dense(64, activation='relu', input_shape=(train_data.shape[1],)))\n",
        "  model.add(layers.Dense(64, activation='relu'))\n",
        "  model.add(layers.Dense(1))\n",
        "  model.compile(optimizer='rmsprop', loss='mse', metrics=['mae'])\n",
        "  return model"
      ],
      "execution_count": 0,
      "outputs": []
    },
    {
      "cell_type": "markdown",
      "metadata": {
        "id": "xzHj4JmfKSly",
        "colab_type": "text"
      },
      "source": [
        "# K-Fold "
      ]
    },
    {
      "cell_type": "code",
      "metadata": {
        "id": "J-KZ-wKUKPjk",
        "colab_type": "code",
        "outputId": "69fdd372-b8f8-4f00-8e78-c98a8b01e394",
        "colab": {
          "base_uri": "https://localhost:8080/",
          "height": 85
        }
      },
      "source": [
        "k = 4\n",
        "num_val_samples = len(train_data) // k\n",
        "num_epochs = 500\n",
        "all_scores = []\n",
        "all_mae_histories = []\n",
        "for i in range(k):\n",
        "  print('processing fold #', i)\n",
        "  val_data = train_data[i * num_val_samples: (i + 1) * num_val_samples]\n",
        "  val_targets = train_targets[i * num_val_samples: (i + 1) * num_val_samples]\n",
        "  partial_train_data = np.concatenate([train_data[:i * num_val_samples], train_data[(i + 1) * num_val_samples:]], axis=0)\n",
        "  partial_train_targets = np.concatenate([train_targets[:i * num_val_samples], train_targets[(i + 1) * num_val_samples:]], axis=0)\n",
        "  model = build_model()\n",
        "  history = model.fit(partial_train_data, partial_train_targets, epochs=num_epochs, batch_size=1, verbose=0)\n",
        "  val_mse, val_mae = model.evaluate(val_data, val_targets, verbose=0)\n",
        "  all_scores.append(val_mae)\n",
        "  mae_history = history.history['mae']\n",
        "  all_mae_histories.append(mae_history)"
      ],
      "execution_count": 0,
      "outputs": [
        {
          "output_type": "stream",
          "text": [
            "processing fold # 0\n",
            "processing fold # 1\n",
            "processing fold # 2\n",
            "processing fold # 3\n"
          ],
          "name": "stdout"
        }
      ]
    },
    {
      "cell_type": "markdown",
      "metadata": {
        "id": "C4Md204wK924",
        "colab_type": "text"
      },
      "source": [
        "# Error"
      ]
    },
    {
      "cell_type": "code",
      "metadata": {
        "id": "qxQYxowxK8l0",
        "colab_type": "code",
        "outputId": "8aeafd19-262d-44e5-dd87-0dbc6886b5ff",
        "colab": {
          "base_uri": "https://localhost:8080/",
          "height": 88
        }
      },
      "source": [
        "average_mae_history = [ np.mean([x[i] for x in all_mae_histories]) for i in range(num_epochs)]\n",
        "print('All fold Validation Errors: ', all_scores)\n",
        "print('Mean of All fold Validation Errors: ', np.mean(all_scores))\n",
        "print('average_mae_history: ', average_mae_history)"
      ],
      "execution_count": 0,
      "outputs": [
        {
          "output_type": "stream",
          "text": [
            "All fold Errors:  [2.3235984, 2.536567, 3.1222498, 2.7107162]\n",
            "Mean of All fold Errors:  2.6732829\n",
            "average_mae_history:  [11.167559, 3.6616783, 3.0346644, 2.7337117, 2.5639117, 2.4439318, 2.364825, 2.3166902, 2.2505202, 2.2397962, 2.1974292, 2.148077, 2.1207042, 2.1269252, 2.0608523, 2.053848, 2.036836, 2.0278823, 1.9757664, 1.9774439, 1.9314481, 1.9574679, 1.9310187, 1.9098082, 1.899387, 1.8773499, 1.8299159, 1.8551631, 1.8432865, 1.8675458, 1.8132718, 1.7947685, 1.8266075, 1.7940065, 1.7913113, 1.759424, 1.7659991, 1.742153, 1.7441249, 1.7250273, 1.7201571, 1.7128043, 1.7066648, 1.6671535, 1.6935444, 1.6518142, 1.6866343, 1.615811, 1.6602508, 1.6128699, 1.65216, 1.6427715, 1.6363354, 1.6163363, 1.6065962, 1.5932966, 1.5730503, 1.5745149, 1.57363, 1.5440323, 1.5548317, 1.5398118, 1.5135398, 1.5297773, 1.5379226, 1.5096194, 1.5201681, 1.4752905, 1.5103834, 1.4939675, 1.4860878, 1.45571, 1.4621147, 1.474195, 1.4412084, 1.431141, 1.4393436, 1.431686, 1.4152148, 1.423089, 1.4134223, 1.3983358, 1.3927413, 1.3989909, 1.392765, 1.3723125, 1.3818468, 1.3834376, 1.3672689, 1.3363699, 1.3444109, 1.3595946, 1.3420806, 1.3333578, 1.3367946, 1.3246024, 1.3221295, 1.3049988, 1.2933953, 1.3073201, 1.2918565, 1.32499, 1.2825814, 1.2875739, 1.3079927, 1.2959539, 1.2712967, 1.2760649, 1.275677, 1.2577256, 1.2509661, 1.2452946, 1.2457671, 1.2553785, 1.2400008, 1.2518506, 1.2453656, 1.2346245, 1.2205195, 1.2140975, 1.2264334, 1.2246842, 1.2093809, 1.21294, 1.1799538, 1.2152339, 1.2165037, 1.1884382, 1.1759429, 1.1950626, 1.2027578, 1.1706504, 1.1671245, 1.165972, 1.1838036, 1.1584897, 1.1625417, 1.1292037, 1.133038, 1.1568224, 1.1924467, 1.1569254, 1.134854, 1.1176847, 1.1526011, 1.1317601, 1.1089449, 1.1203682, 1.1271865, 1.1291354, 1.1232083, 1.1286068, 1.1213655, 1.0953958, 1.1092188, 1.1159581, 1.09991, 1.1034956, 1.0997405, 1.1177442, 1.0774798, 1.0602895, 1.0685829, 1.0777407, 1.0659332, 1.0709969, 1.0605861, 1.0727373, 1.0535274, 1.056144, 1.0628091, 1.0434935, 1.0752095, 1.0521746, 1.0525622, 1.0477154, 1.0685573, 1.032334, 1.0540016, 1.0634296, 1.0215607, 1.0150725, 1.0342903, 1.0488524, 0.99820065, 0.99205875, 1.0128105, 0.99954194, 1.0208976, 1.0127499, 1.0038782, 1.0448971, 1.0142059, 1.006835, 1.0071986, 1.0000594, 0.9964744, 0.99923575, 1.0036643, 1.0083687, 0.9996546, 1.0057025, 1.0057197, 0.968909, 0.9903493, 0.9900665, 0.9946455, 1.008088, 0.98045206, 0.96348524, 0.97224724, 0.96385974, 0.97242343, 0.99616736, 0.93673176, 0.9681563, 0.9531325, 0.94740987, 0.9575325, 0.975574, 0.941019, 0.9533318, 0.9426589, 0.95789456, 0.95761806, 0.9282369, 0.9378145, 0.925039, 0.9287014, 0.9316137, 0.9290711, 0.92844945, 0.9153458, 0.9268796, 0.91304183, 0.9018881, 0.92736316, 0.9112693, 0.90269005, 0.9426387, 0.91196287, 0.91656685, 0.90647095, 0.90264165, 0.8898944, 0.9226172, 0.8867039, 0.9181243, 0.8875083, 0.89063215, 0.8959445, 0.88119894, 0.89557284, 0.86291957, 0.87325305, 0.8907979, 0.8806257, 0.8595131, 0.877121, 0.88413215, 0.8529366, 0.8673837, 0.8774386, 0.86431044, 0.8659875, 0.8861413, 0.8741926, 0.86539006, 0.84840584, 0.85503733, 0.86695325, 0.8343481, 0.8539479, 0.85966647, 0.82798934, 0.84780294, 0.8622607, 0.8432361, 0.8237226, 0.8138824, 0.845289, 0.84551376, 0.8466676, 0.8265948, 0.8361771, 0.82605046, 0.8305355, 0.8226358, 0.8121544, 0.83047414, 0.82754153, 0.84256804, 0.8140125, 0.8028637, 0.8308934, 0.8158866, 0.807207, 0.8187312, 0.8280141, 0.81507075, 0.8265959, 0.78685, 0.81109005, 0.8020602, 0.8102467, 0.7990681, 0.79290664, 0.7928208, 0.8148716, 0.79016703, 0.81637955, 0.7833779, 0.79056865, 0.80440336, 0.784588, 0.79811466, 0.8092528, 0.77546793, 0.78190184, 0.77022934, 0.7665312, 0.7685893, 0.77985054, 0.7937036, 0.7858433, 0.7826066, 0.7651656, 0.7594279, 0.7707497, 0.7716583, 0.77504194, 0.7717422, 0.77133894, 0.7808307, 0.7729514, 0.74666667, 0.76331383, 0.76136225, 0.7431532, 0.7637603, 0.7433198, 0.7674513, 0.74208915, 0.7590052, 0.7538269, 0.7511047, 0.7392478, 0.77768815, 0.75225765, 0.7456887, 0.77729416, 0.73593247, 0.75195515, 0.74996185, 0.72433996, 0.75211096, 0.754017, 0.74850553, 0.72689193, 0.77180815, 0.7295198, 0.7403793, 0.73916227, 0.7523096, 0.7407229, 0.7324007, 0.7194124, 0.7192622, 0.7370603, 0.74350125, 0.7239419, 0.74134576, 0.7091843, 0.73263264, 0.7299564, 0.7100308, 0.72657126, 0.7484421, 0.72460884, 0.7177912, 0.7312847, 0.7192554, 0.7306719, 0.7044314, 0.73517966, 0.7420989, 0.7040677, 0.7038865, 0.7083051, 0.7046843, 0.7067288, 0.7089692, 0.69164073, 0.72688997, 0.6989993, 0.6988496, 0.7072383, 0.69773567, 0.7272258, 0.6965588, 0.6990128, 0.7039079, 0.7000818, 0.7046242, 0.6937189, 0.70048714, 0.70921814, 0.6997883, 0.6879169, 0.69658893, 0.69999146, 0.69176996, 0.7110176, 0.69983727, 0.67979854, 0.68457764, 0.7028198, 0.68463486, 0.68462133, 0.67473763, 0.7007451, 0.68113285, 0.6787465, 0.6702565, 0.68995357, 0.6784629, 0.6851035, 0.6859608, 0.69472694, 0.66821164, 0.6900692, 0.6765188, 0.6736307, 0.6796229, 0.67031395, 0.6820644, 0.65840614, 0.66312134, 0.68833876, 0.6755045, 0.67132974, 0.6638502, 0.6609465, 0.6679728, 0.67121553, 0.6657427, 0.67052627, 0.6591598, 0.6591031, 0.6567564, 0.6611455, 0.6656725, 0.6758252, 0.66908795, 0.6684567, 0.6589629, 0.6626707, 0.6354939, 0.6455555, 0.68945634, 0.65210474, 0.6589755, 0.6381278, 0.65269357, 0.6378568, 0.6775203, 0.64368844, 0.65050215, 0.65012735, 0.64723563, 0.6591996, 0.6694565, 0.6503332, 0.65040845, 0.65140593, 0.63963604, 0.66497356, 0.63406485, 0.6386416, 0.64484197, 0.65516424, 0.63677937, 0.63445354, 0.6478491, 0.64353544, 0.63439155, 0.639581, 0.6569279, 0.63283515, 0.6325121, 0.6470626, 0.6343192, 0.6610559, 0.6433856, 0.641867, 0.6401168, 0.6298106, 0.628497, 0.64943224, 0.64982533]\n"
          ],
          "name": "stdout"
        }
      ]
    },
    {
      "cell_type": "markdown",
      "metadata": {
        "id": "hBjJn-KPYyfg",
        "colab_type": "text"
      },
      "source": [
        "#plotting Error"
      ]
    },
    {
      "cell_type": "code",
      "metadata": {
        "id": "YWBeqdN2Y0WU",
        "colab_type": "code",
        "outputId": "55f1e1ff-0051-466b-99dc-db0015670a62",
        "colab": {
          "base_uri": "https://localhost:8080/",
          "height": 279
        }
      },
      "source": [
        "plt.plot(range(1, len(average_mae_history) + 1), average_mae_history)\n",
        "plt.xlabel('Epochs')\n",
        "plt.ylabel('Validation MAE')\n",
        "plt.show()"
      ],
      "execution_count": 0,
      "outputs": [
        {
          "output_type": "display_data",
          "data": {
            "image/png": "[encoded data removed]",
            "text/plain": [
              "<Figure size 432x288 with 1 Axes>"
            ]
          },
          "metadata": {
            "tags": []
          }
        }
      ]
    },
    {
      "cell_type": "code",
      "metadata": {
        "id": "uDqj1tTtY93a",
        "colab_type": "code",
        "outputId": "c35838c5-8358-45ec-f336-1f2264179fd9",
        "colab": {
          "base_uri": "https://localhost:8080/",
          "height": 279
        }
      },
      "source": [
        "def smooth_curve(points, factor=0.9):\n",
        "  smoothed_points = []\n",
        "  for point in points:\n",
        "    if smoothed_points:\n",
        "      previous = smoothed_points[-1]\n",
        "      smoothed_points.append(previous * factor + point * (1 - factor))\n",
        "    else:\n",
        "      smoothed_points.append(point)\n",
        "  return smoothed_points\n",
        "smooth_mae_history = smooth_curve(average_mae_history[10:])\n",
        "plt.plot(range(1, len(smooth_mae_history) + 1), smooth_mae_history)\n",
        "plt.xlabel('Epochs')\n",
        "plt.ylabel('Validation MAE')\n",
        "plt.show()"
      ],
      "execution_count": 0,
      "outputs": [
        {
          "output_type": "display_data",
          "data": {
            "image/png": "[encoded data removed]",
            "text/plain": [
              "<Figure size 432x288 with 1 Axes>"
            ]
          },
          "metadata": {
            "tags": []
          }
        }
      ]
    },
    {
      "cell_type": "markdown",
      "metadata": {
        "id": "2TETqNKAbKnv",
        "colab_type": "text"
      },
      "source": [
        "#Training and Validating Final Model on Complete Dataset"
      ]
    },
    {
      "cell_type": "code",
      "metadata": {
        "id": "w_tW5S5EbJmi",
        "colab_type": "code",
        "outputId": "6246b11e-bdee-45b5-b19c-dd540b819a1c",
        "colab": {
          "base_uri": "https://localhost:8080/",
          "height": 71
        }
      },
      "source": [
        "model = build_model()\n",
        "model.fit(train_data, train_targets, epochs=80, batch_size=16, verbose=0)\n",
        "test_mse_score, test_mae_score = model.evaluate(test_data, test_targets)\n",
        "print(test_mae_score)"
      ],
      "execution_count": 0,
      "outputs": [
        {
          "output_type": "stream",
          "text": [
            "\r102/1 [====================================================================================================================================================================================================================================================================================================================================================================================================================================================================================================================================================================================================================================================================================================================================================================================================================================================================================================================================================================================================================================================================================================================================================================================================================================================================================================================================================================================================================================================================================================================================================================================================================================================================================================================================================================================================================================================================================================================================================================================================================================================================================================================================================================================================================================================================================================================================================================================================================================================================================================================================================================================================================================================================================================================================================================================================================================================================================================================================================================================================================================================================================================================================================================================] - 0s 740us/sample - loss: 88.9674 - mae: 2.8275\n",
            "2.8274703\n"
          ],
          "name": "stdout"
        }
      ]
    }
  ]
}