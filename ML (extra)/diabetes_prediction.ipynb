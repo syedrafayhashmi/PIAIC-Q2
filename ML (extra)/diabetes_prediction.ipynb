{
 "cells": [
  {
   "cell_type": "code",
   "execution_count": 82,
   "metadata": {},
   "outputs": [],
   "source": [
    "import pandas as pd \n",
    "import numpy as np \n",
    "import tensorflow as tf"
   ]
  },
  {
   "cell_type": "code",
   "execution_count": 83,
   "metadata": {},
   "outputs": [],
   "source": [
    "pd.options.display.max_rows = None"
   ]
  },
  {
   "cell_type": "code",
   "execution_count": 84,
   "metadata": {},
   "outputs": [
    {
     "data": {
      "text/html": [
       "<div>\n",
       "<style scoped>\n",
       "    .dataframe tbody tr th:only-of-type {\n",
       "        vertical-align: middle;\n",
       "    }\n",
       "\n",
       "    .dataframe tbody tr th {\n",
       "        vertical-align: top;\n",
       "    }\n",
       "\n",
       "    .dataframe thead th {\n",
       "        text-align: right;\n",
       "    }\n",
       "</style>\n",
       "<table border=\"1\" class=\"dataframe\">\n",
       "  <thead>\n",
       "    <tr style=\"text-align: right;\">\n",
       "      <th></th>\n",
       "      <th>Pregnancies</th>\n",
       "      <th>Glucose</th>\n",
       "      <th>BloodPressure</th>\n",
       "      <th>SkinThickness</th>\n",
       "      <th>Insulin</th>\n",
       "      <th>BMI</th>\n",
       "      <th>DiabetesPedigreeFunction</th>\n",
       "      <th>Age</th>\n",
       "      <th>Outcome</th>\n",
       "    </tr>\n",
       "  </thead>\n",
       "  <tbody>\n",
       "    <tr>\n",
       "      <th>0</th>\n",
       "      <td>6</td>\n",
       "      <td>148</td>\n",
       "      <td>72</td>\n",
       "      <td>35</td>\n",
       "      <td>0</td>\n",
       "      <td>33.6</td>\n",
       "      <td>0.627</td>\n",
       "      <td>50</td>\n",
       "      <td>1</td>\n",
       "    </tr>\n",
       "    <tr>\n",
       "      <th>1</th>\n",
       "      <td>1</td>\n",
       "      <td>85</td>\n",
       "      <td>66</td>\n",
       "      <td>29</td>\n",
       "      <td>0</td>\n",
       "      <td>26.6</td>\n",
       "      <td>0.351</td>\n",
       "      <td>31</td>\n",
       "      <td>0</td>\n",
       "    </tr>\n",
       "    <tr>\n",
       "      <th>2</th>\n",
       "      <td>8</td>\n",
       "      <td>183</td>\n",
       "      <td>64</td>\n",
       "      <td>0</td>\n",
       "      <td>0</td>\n",
       "      <td>23.3</td>\n",
       "      <td>0.672</td>\n",
       "      <td>32</td>\n",
       "      <td>1</td>\n",
       "    </tr>\n",
       "    <tr>\n",
       "      <th>3</th>\n",
       "      <td>1</td>\n",
       "      <td>89</td>\n",
       "      <td>66</td>\n",
       "      <td>23</td>\n",
       "      <td>94</td>\n",
       "      <td>28.1</td>\n",
       "      <td>0.167</td>\n",
       "      <td>21</td>\n",
       "      <td>0</td>\n",
       "    </tr>\n",
       "    <tr>\n",
       "      <th>4</th>\n",
       "      <td>0</td>\n",
       "      <td>137</td>\n",
       "      <td>40</td>\n",
       "      <td>35</td>\n",
       "      <td>168</td>\n",
       "      <td>43.1</td>\n",
       "      <td>2.288</td>\n",
       "      <td>33</td>\n",
       "      <td>1</td>\n",
       "    </tr>\n",
       "  </tbody>\n",
       "</table>\n",
       "</div>"
      ],
      "text/plain": [
       "   Pregnancies  Glucose  BloodPressure  SkinThickness  Insulin   BMI  \\\n",
       "0            6      148             72             35        0  33.6   \n",
       "1            1       85             66             29        0  26.6   \n",
       "2            8      183             64              0        0  23.3   \n",
       "3            1       89             66             23       94  28.1   \n",
       "4            0      137             40             35      168  43.1   \n",
       "\n",
       "   DiabetesPedigreeFunction  Age  Outcome  \n",
       "0                     0.627   50        1  \n",
       "1                     0.351   31        0  \n",
       "2                     0.672   32        1  \n",
       "3                     0.167   21        0  \n",
       "4                     2.288   33        1  "
      ]
     },
     "execution_count": 84,
     "metadata": {},
     "output_type": "execute_result"
    }
   ],
   "source": [
    "df = pd.read_csv(\"diabetes.csv\")\n",
    "df.head()"
   ]
  },
  {
   "cell_type": "code",
   "execution_count": 85,
   "metadata": {},
   "outputs": [
    {
     "data": {
      "text/plain": [
       "<matplotlib.axes._subplots.AxesSubplot at 0x221173a5550>"
      ]
     },
     "execution_count": 85,
     "metadata": {},
     "output_type": "execute_result"
    },
    {
     "data": {
      "image/png": "[encoded data removed]",
      "text/plain": [
       "<Figure size 432x288 with 1 Axes>"
      ]
     },
     "metadata": {
      "needs_background": "light"
     },
     "output_type": "display_data"
    }
   ],
   "source": [
    "sns.countplot(x = 'Outcome', data = df, palette = 'magma')"
   ]
  },
  {
   "cell_type": "code",
   "execution_count": 86,
   "metadata": {},
   "outputs": [
    {
     "name": "stdout",
     "output_type": "stream",
     "text": [
      "Shape of Dataset : (768, 9)\n",
      "\n",
      "Number of NON NULL values :\n",
      "\n",
      "<class 'pandas.core.frame.DataFrame'>\n",
      "RangeIndex: 768 entries, 0 to 767\n",
      "Data columns (total 9 columns):\n",
      "Pregnancies                 768 non-null int64\n",
      "Glucose                     768 non-null int64\n",
      "BloodPressure               768 non-null int64\n",
      "SkinThickness               768 non-null int64\n",
      "Insulin                     768 non-null int64\n",
      "BMI                         768 non-null float64\n",
      "DiabetesPedigreeFunction    768 non-null float64\n",
      "Age                         768 non-null int64\n",
      "Outcome                     768 non-null int64\n",
      "dtypes: float64(2), int64(7)\n",
      "memory usage: 54.1 KB\n"
     ]
    }
   ],
   "source": [
    "print(\"Shape of Dataset :\",df.shape)\n",
    "print(\"\\nNumber of NON NULL values :\\n\")\n",
    "df.info()"
   ]
  },
  {
   "cell_type": "code",
   "execution_count": 87,
   "metadata": {},
   "outputs": [
    {
     "name": "stdout",
     "output_type": "stream",
     "text": [
      "**** Minimum value in each column **** \n",
      "\n",
      "Pregnancies : 0\n",
      "Glucose : 0\n",
      "BloodPressure : 0\n",
      "SkinThickness : 0\n",
      "Insulin : 0\n",
      "BMI : 0.0\n",
      "DiabetesPedigreeFunction : 0.078\n",
      "Age : 21\n",
      "Outcome : 0\n"
     ]
    }
   ],
   "source": [
    "print(\"**** Minimum value in each column **** \\n\")\n",
    "for col in df.columns:\n",
    "    print(col ,\":\",min(df[col]))\n",
    "    "
   ]
  },
  {
   "cell_type": "code",
   "execution_count": 88,
   "metadata": {},
   "outputs": [
    {
     "data": {
      "text/html": [
       "<div>\n",
       "<style scoped>\n",
       "    .dataframe tbody tr th:only-of-type {\n",
       "        vertical-align: middle;\n",
       "    }\n",
       "\n",
       "    .dataframe tbody tr th {\n",
       "        vertical-align: top;\n",
       "    }\n",
       "\n",
       "    .dataframe thead th {\n",
       "        text-align: right;\n",
       "    }\n",
       "</style>\n",
       "<table border=\"1\" class=\"dataframe\">\n",
       "  <thead>\n",
       "    <tr style=\"text-align: right;\">\n",
       "      <th></th>\n",
       "      <th>Glucose</th>\n",
       "      <th>BloodPressure</th>\n",
       "      <th>SkinThickness</th>\n",
       "      <th>Insulin</th>\n",
       "      <th>BMI</th>\n",
       "    </tr>\n",
       "  </thead>\n",
       "  <tbody>\n",
       "    <tr>\n",
       "      <th>0</th>\n",
       "      <td>148.0</td>\n",
       "      <td>72.0</td>\n",
       "      <td>35.0</td>\n",
       "      <td>NaN</td>\n",
       "      <td>33.6</td>\n",
       "    </tr>\n",
       "    <tr>\n",
       "      <th>1</th>\n",
       "      <td>85.0</td>\n",
       "      <td>66.0</td>\n",
       "      <td>29.0</td>\n",
       "      <td>NaN</td>\n",
       "      <td>26.6</td>\n",
       "    </tr>\n",
       "    <tr>\n",
       "      <th>2</th>\n",
       "      <td>183.0</td>\n",
       "      <td>64.0</td>\n",
       "      <td>NaN</td>\n",
       "      <td>NaN</td>\n",
       "      <td>23.3</td>\n",
       "    </tr>\n",
       "    <tr>\n",
       "      <th>3</th>\n",
       "      <td>89.0</td>\n",
       "      <td>66.0</td>\n",
       "      <td>23.0</td>\n",
       "      <td>94.0</td>\n",
       "      <td>28.1</td>\n",
       "    </tr>\n",
       "    <tr>\n",
       "      <th>4</th>\n",
       "      <td>137.0</td>\n",
       "      <td>40.0</td>\n",
       "      <td>35.0</td>\n",
       "      <td>168.0</td>\n",
       "      <td>43.1</td>\n",
       "    </tr>\n",
       "  </tbody>\n",
       "</table>\n",
       "</div>"
      ],
      "text/plain": [
       "   Glucose  BloodPressure  SkinThickness  Insulin   BMI\n",
       "0    148.0           72.0           35.0      NaN  33.6\n",
       "1     85.0           66.0           29.0      NaN  26.6\n",
       "2    183.0           64.0            NaN      NaN  23.3\n",
       "3     89.0           66.0           23.0     94.0  28.1\n",
       "4    137.0           40.0           35.0    168.0  43.1"
      ]
     },
     "execution_count": 88,
     "metadata": {},
     "output_type": "execute_result"
    }
   ],
   "source": [
    "# Glucose : 0 BloodPressure : 0 SkinThickness : 0 Insulin : 0 BMI : 0.0 These columns can't be 0\n",
    "# It means these have NULL values before .We are going to replace 0 with NULL and then NULL with \n",
    "# column's MEAN.\n",
    "\n",
    "extracted_cols = df.drop(columns=['Pregnancies' , 'DiabetesPedigreeFunction', 'Age', 'Outcome'])\n",
    "extracted_cols.replace(0,np.NaN , inplace=True)\n",
    "extracted_cols.head()"
   ]
  },
  {
   "cell_type": "code",
   "execution_count": 89,
   "metadata": {},
   "outputs": [
    {
     "data": {
      "text/html": [
       "<div>\n",
       "<style scoped>\n",
       "    .dataframe tbody tr th:only-of-type {\n",
       "        vertical-align: middle;\n",
       "    }\n",
       "\n",
       "    .dataframe tbody tr th {\n",
       "        vertical-align: top;\n",
       "    }\n",
       "\n",
       "    .dataframe thead th {\n",
       "        text-align: right;\n",
       "    }\n",
       "</style>\n",
       "<table border=\"1\" class=\"dataframe\">\n",
       "  <thead>\n",
       "    <tr style=\"text-align: right;\">\n",
       "      <th></th>\n",
       "      <th>Pregnancies</th>\n",
       "      <th>Glucose</th>\n",
       "      <th>BloodPressure</th>\n",
       "      <th>SkinThickness</th>\n",
       "      <th>Insulin</th>\n",
       "      <th>BMI</th>\n",
       "      <th>DiabetesPedigreeFunction</th>\n",
       "      <th>Age</th>\n",
       "      <th>Outcome</th>\n",
       "    </tr>\n",
       "  </thead>\n",
       "  <tbody>\n",
       "    <tr>\n",
       "      <th>0</th>\n",
       "      <td>6</td>\n",
       "      <td>148.0</td>\n",
       "      <td>72.0</td>\n",
       "      <td>35.0</td>\n",
       "      <td>NaN</td>\n",
       "      <td>33.6</td>\n",
       "      <td>0.627</td>\n",
       "      <td>50</td>\n",
       "      <td>1</td>\n",
       "    </tr>\n",
       "    <tr>\n",
       "      <th>1</th>\n",
       "      <td>1</td>\n",
       "      <td>85.0</td>\n",
       "      <td>66.0</td>\n",
       "      <td>29.0</td>\n",
       "      <td>NaN</td>\n",
       "      <td>26.6</td>\n",
       "      <td>0.351</td>\n",
       "      <td>31</td>\n",
       "      <td>0</td>\n",
       "    </tr>\n",
       "    <tr>\n",
       "      <th>2</th>\n",
       "      <td>8</td>\n",
       "      <td>183.0</td>\n",
       "      <td>64.0</td>\n",
       "      <td>NaN</td>\n",
       "      <td>NaN</td>\n",
       "      <td>23.3</td>\n",
       "      <td>0.672</td>\n",
       "      <td>32</td>\n",
       "      <td>1</td>\n",
       "    </tr>\n",
       "    <tr>\n",
       "      <th>3</th>\n",
       "      <td>1</td>\n",
       "      <td>89.0</td>\n",
       "      <td>66.0</td>\n",
       "      <td>23.0</td>\n",
       "      <td>94.0</td>\n",
       "      <td>28.1</td>\n",
       "      <td>0.167</td>\n",
       "      <td>21</td>\n",
       "      <td>0</td>\n",
       "    </tr>\n",
       "    <tr>\n",
       "      <th>4</th>\n",
       "      <td>0</td>\n",
       "      <td>137.0</td>\n",
       "      <td>40.0</td>\n",
       "      <td>35.0</td>\n",
       "      <td>168.0</td>\n",
       "      <td>43.1</td>\n",
       "      <td>2.288</td>\n",
       "      <td>33</td>\n",
       "      <td>1</td>\n",
       "    </tr>\n",
       "  </tbody>\n",
       "</table>\n",
       "</div>"
      ],
      "text/plain": [
       "   Pregnancies  Glucose  BloodPressure  SkinThickness  Insulin   BMI  \\\n",
       "0            6    148.0           72.0           35.0      NaN  33.6   \n",
       "1            1     85.0           66.0           29.0      NaN  26.6   \n",
       "2            8    183.0           64.0            NaN      NaN  23.3   \n",
       "3            1     89.0           66.0           23.0     94.0  28.1   \n",
       "4            0    137.0           40.0           35.0    168.0  43.1   \n",
       "\n",
       "   DiabetesPedigreeFunction  Age  Outcome  \n",
       "0                     0.627   50        1  \n",
       "1                     0.351   31        0  \n",
       "2                     0.672   32        1  \n",
       "3                     0.167   21        0  \n",
       "4                     2.288   33        1  "
      ]
     },
     "execution_count": 89,
     "metadata": {},
     "output_type": "execute_result"
    }
   ],
   "source": [
    "# Replacing these extracted columns with original dataframe's columns\n",
    "\n",
    "df['Glucose'] = extracted_cols['Glucose']\n",
    "df['BloodPressure'] = extracted_cols['BloodPressure']\n",
    "df['SkinThickness'] = extracted_cols['SkinThickness']\n",
    "df['Insulin'] = extracted_cols['Insulin']\n",
    "df['BMI'] = extracted_cols['BMI']\n",
    "df.head()"
   ]
  },
  {
   "cell_type": "code",
   "execution_count": 90,
   "metadata": {},
   "outputs": [
    {
     "name": "stdout",
     "output_type": "stream",
     "text": [
      "Number of rows with 0 values for each variable\n",
      "Pregnancies: 111\n",
      "Glucose: 0\n",
      "BloodPressure: 0\n",
      "SkinThickness: 0\n",
      "Insulin: 0\n",
      "BMI: 0\n",
      "DiabetesPedigreeFunction: 0\n",
      "Age: 0\n",
      "Outcome: 500\n"
     ]
    }
   ],
   "source": [
    "print(\"Number of rows with 0 values for each variable\")\n",
    "for col in df.columns:\n",
    "    missing_rows = df.loc[df[col]==0].shape[0]\n",
    "    print(col + \": \" + str(missing_rows))"
   ]
  },
  {
   "cell_type": "code",
   "execution_count": 91,
   "metadata": {},
   "outputs": [],
   "source": [
    "df['Glucose'] = df['Glucose'].fillna(df['Glucose'].mean())\n",
    "df['BloodPressure'] = df['BloodPressure'].fillna(df['BloodPressure'].mean())\n",
    "df['SkinThickness'] = df['SkinThickness'].fillna(df['SkinThickness'].mean())\n",
    "df['Insulin'] = df['Insulin'].fillna(df['Insulin'].mean())\n",
    "df['BMI'] = df['BMI'].fillna(df['BMI'].mean())"
   ]
  },
  {
   "cell_type": "code",
   "execution_count": 92,
   "metadata": {},
   "outputs": [
    {
     "data": {
      "text/html": [
       "<div>\n",
       "<style scoped>\n",
       "    .dataframe tbody tr th:only-of-type {\n",
       "        vertical-align: middle;\n",
       "    }\n",
       "\n",
       "    .dataframe tbody tr th {\n",
       "        vertical-align: top;\n",
       "    }\n",
       "\n",
       "    .dataframe thead th {\n",
       "        text-align: right;\n",
       "    }\n",
       "</style>\n",
       "<table border=\"1\" class=\"dataframe\">\n",
       "  <thead>\n",
       "    <tr style=\"text-align: right;\">\n",
       "      <th></th>\n",
       "      <th>Pregnancies</th>\n",
       "      <th>Glucose</th>\n",
       "      <th>BloodPressure</th>\n",
       "      <th>SkinThickness</th>\n",
       "      <th>Insulin</th>\n",
       "      <th>BMI</th>\n",
       "      <th>DiabetesPedigreeFunction</th>\n",
       "      <th>Age</th>\n",
       "      <th>Outcome</th>\n",
       "    </tr>\n",
       "  </thead>\n",
       "  <tbody>\n",
       "    <tr>\n",
       "      <th>0</th>\n",
       "      <td>6</td>\n",
       "      <td>148.0</td>\n",
       "      <td>72.0</td>\n",
       "      <td>35.00000</td>\n",
       "      <td>155.548223</td>\n",
       "      <td>33.6</td>\n",
       "      <td>0.627</td>\n",
       "      <td>50</td>\n",
       "      <td>1</td>\n",
       "    </tr>\n",
       "    <tr>\n",
       "      <th>1</th>\n",
       "      <td>1</td>\n",
       "      <td>85.0</td>\n",
       "      <td>66.0</td>\n",
       "      <td>29.00000</td>\n",
       "      <td>155.548223</td>\n",
       "      <td>26.6</td>\n",
       "      <td>0.351</td>\n",
       "      <td>31</td>\n",
       "      <td>0</td>\n",
       "    </tr>\n",
       "    <tr>\n",
       "      <th>2</th>\n",
       "      <td>8</td>\n",
       "      <td>183.0</td>\n",
       "      <td>64.0</td>\n",
       "      <td>29.15342</td>\n",
       "      <td>155.548223</td>\n",
       "      <td>23.3</td>\n",
       "      <td>0.672</td>\n",
       "      <td>32</td>\n",
       "      <td>1</td>\n",
       "    </tr>\n",
       "    <tr>\n",
       "      <th>3</th>\n",
       "      <td>1</td>\n",
       "      <td>89.0</td>\n",
       "      <td>66.0</td>\n",
       "      <td>23.00000</td>\n",
       "      <td>94.000000</td>\n",
       "      <td>28.1</td>\n",
       "      <td>0.167</td>\n",
       "      <td>21</td>\n",
       "      <td>0</td>\n",
       "    </tr>\n",
       "    <tr>\n",
       "      <th>4</th>\n",
       "      <td>0</td>\n",
       "      <td>137.0</td>\n",
       "      <td>40.0</td>\n",
       "      <td>35.00000</td>\n",
       "      <td>168.000000</td>\n",
       "      <td>43.1</td>\n",
       "      <td>2.288</td>\n",
       "      <td>33</td>\n",
       "      <td>1</td>\n",
       "    </tr>\n",
       "  </tbody>\n",
       "</table>\n",
       "</div>"
      ],
      "text/plain": [
       "   Pregnancies  Glucose  BloodPressure  SkinThickness     Insulin   BMI  \\\n",
       "0            6    148.0           72.0       35.00000  155.548223  33.6   \n",
       "1            1     85.0           66.0       29.00000  155.548223  26.6   \n",
       "2            8    183.0           64.0       29.15342  155.548223  23.3   \n",
       "3            1     89.0           66.0       23.00000   94.000000  28.1   \n",
       "4            0    137.0           40.0       35.00000  168.000000  43.1   \n",
       "\n",
       "   DiabetesPedigreeFunction  Age  Outcome  \n",
       "0                     0.627   50        1  \n",
       "1                     0.351   31        0  \n",
       "2                     0.672   32        1  \n",
       "3                     0.167   21        0  \n",
       "4                     2.288   33        1  "
      ]
     },
     "execution_count": 92,
     "metadata": {},
     "output_type": "execute_result"
    }
   ],
   "source": [
    "df.head()"
   ]
  },
  {
   "cell_type": "code",
   "execution_count": 93,
   "metadata": {},
   "outputs": [],
   "source": [
    "np_df = df.values"
   ]
  },
  {
   "cell_type": "code",
   "execution_count": 94,
   "metadata": {},
   "outputs": [],
   "source": [
    "train_data = np_df[:568 , :8]\n",
    "test_data = np_df[568: , :8]\n",
    "train_labels = np_df[:568 , 8]\n",
    "test_labels = np_df[568: , 8]"
   ]
  },
  {
   "cell_type": "code",
   "execution_count": 98,
   "metadata": {},
   "outputs": [],
   "source": [
    "mean = train_data.mean(axis = 0)\n",
    "train_data -= mean\n",
    "sd = train_data.std(axis = 0)\n",
    "train_data /= sd\n",
    "\n",
    "test_data -= mean\n",
    "test_data /= sd"
   ]
  },
  {
   "cell_type": "code",
   "execution_count": 99,
   "metadata": {},
   "outputs": [
    {
     "name": "stdout",
     "output_type": "stream",
     "text": [
      "(568, 8) (200, 8) (568,) (200,)\n"
     ]
    }
   ],
   "source": [
    "print(train_data.shape,test_data.shape,train_labels.shape,test_labels.shape)"
   ]
  },
  {
   "cell_type": "code",
   "execution_count": 100,
   "metadata": {},
   "outputs": [],
   "source": [
    "model = tf.keras.models.Sequential([\n",
    "        tf.keras.layers.Input(shape=(8,)) , \n",
    "        tf.keras.layers.Dense(32, activation = 'relu') , \n",
    "        tf.keras.layers.Dropout(0.1),\n",
    "        tf.keras.layers.Dense(16, activation = 'relu') ,\n",
    "        tf.keras.layers.Dense(1,activation = 'sigmoid')\n",
    "        ])"
   ]
  },
  {
   "cell_type": "code",
   "execution_count": 101,
   "metadata": {},
   "outputs": [],
   "source": [
    "model.compile(optimizer = 'adam' , \n",
    "              loss = 'binary_crossentropy' , \n",
    "              metrics=['accuracy']\n",
    "             )"
   ]
  },
  {
   "cell_type": "code",
   "execution_count": 102,
   "metadata": {},
   "outputs": [
    {
     "name": "stdout",
     "output_type": "stream",
     "text": [
      "Train on 568 samples\n",
      "Epoch 1/200\n",
      "568/568 - 1s - loss: 0.6499 - accuracy: 0.6637\n",
      "Epoch 2/200\n",
      "568/568 - 0s - loss: 0.6076 - accuracy: 0.6813\n",
      "Epoch 3/200\n",
      "568/568 - 0s - loss: 0.5725 - accuracy: 0.7042\n",
      "Epoch 4/200\n",
      "568/568 - 0s - loss: 0.5457 - accuracy: 0.7254\n",
      "Epoch 5/200\n",
      "568/568 - 0s - loss: 0.5258 - accuracy: 0.7342\n",
      "Epoch 6/200\n",
      "568/568 - 0s - loss: 0.5072 - accuracy: 0.7465\n",
      "Epoch 7/200\n",
      "568/568 - 0s - loss: 0.4943 - accuracy: 0.7482\n",
      "Epoch 8/200\n",
      "568/568 - 0s - loss: 0.4901 - accuracy: 0.7500\n",
      "Epoch 9/200\n",
      "568/568 - 0s - loss: 0.4790 - accuracy: 0.7606\n",
      "Epoch 10/200\n",
      "568/568 - 0s - loss: 0.4701 - accuracy: 0.7746\n",
      "Epoch 11/200\n",
      "568/568 - 0s - loss: 0.4723 - accuracy: 0.7676\n",
      "Epoch 12/200\n",
      "568/568 - 0s - loss: 0.4642 - accuracy: 0.7694\n",
      "Epoch 13/200\n",
      "568/568 - 0s - loss: 0.4671 - accuracy: 0.7676\n",
      "Epoch 14/200\n",
      "568/568 - 0s - loss: 0.4587 - accuracy: 0.7817\n",
      "Epoch 15/200\n",
      "568/568 - 0s - loss: 0.4610 - accuracy: 0.7711\n",
      "Epoch 16/200\n",
      "568/568 - 0s - loss: 0.4554 - accuracy: 0.7852\n",
      "Epoch 17/200\n",
      "568/568 - 0s - loss: 0.4503 - accuracy: 0.7835\n",
      "Epoch 18/200\n",
      "568/568 - 0s - loss: 0.4526 - accuracy: 0.7870\n",
      "Epoch 19/200\n",
      "568/568 - 0s - loss: 0.4486 - accuracy: 0.7905\n",
      "Epoch 20/200\n",
      "568/568 - 0s - loss: 0.4451 - accuracy: 0.7870\n",
      "Epoch 21/200\n",
      "568/568 - 0s - loss: 0.4537 - accuracy: 0.7923\n",
      "Epoch 22/200\n",
      "568/568 - 0s - loss: 0.4458 - accuracy: 0.7923\n",
      "Epoch 23/200\n",
      "568/568 - 0s - loss: 0.4375 - accuracy: 0.7905\n",
      "Epoch 24/200\n",
      "568/568 - 0s - loss: 0.4401 - accuracy: 0.7852\n",
      "Epoch 25/200\n",
      "568/568 - 0s - loss: 0.4311 - accuracy: 0.8063\n",
      "Epoch 26/200\n",
      "568/568 - 0s - loss: 0.4392 - accuracy: 0.7940\n",
      "Epoch 27/200\n",
      "568/568 - 0s - loss: 0.4279 - accuracy: 0.7923\n",
      "Epoch 28/200\n",
      "568/568 - 0s - loss: 0.4412 - accuracy: 0.7905\n",
      "Epoch 29/200\n",
      "568/568 - 0s - loss: 0.4346 - accuracy: 0.7940\n",
      "Epoch 30/200\n",
      "568/568 - 0s - loss: 0.4345 - accuracy: 0.7940\n",
      "Epoch 31/200\n",
      "568/568 - 0s - loss: 0.4343 - accuracy: 0.7940\n",
      "Epoch 32/200\n",
      "568/568 - 0s - loss: 0.4330 - accuracy: 0.7958\n",
      "Epoch 33/200\n",
      "568/568 - 0s - loss: 0.4301 - accuracy: 0.7905\n",
      "Epoch 34/200\n",
      "568/568 - 0s - loss: 0.4273 - accuracy: 0.7940\n",
      "Epoch 35/200\n",
      "568/568 - 0s - loss: 0.4227 - accuracy: 0.7923\n",
      "Epoch 36/200\n",
      "568/568 - 0s - loss: 0.4288 - accuracy: 0.8028\n",
      "Epoch 37/200\n",
      "568/568 - 0s - loss: 0.4263 - accuracy: 0.7993\n",
      "Epoch 38/200\n",
      "568/568 - 0s - loss: 0.4178 - accuracy: 0.7975\n",
      "Epoch 39/200\n",
      "568/568 - 0s - loss: 0.4214 - accuracy: 0.8046\n",
      "Epoch 40/200\n",
      "568/568 - 0s - loss: 0.4298 - accuracy: 0.7887\n",
      "Epoch 41/200\n",
      "568/568 - 0s - loss: 0.4140 - accuracy: 0.7975\n",
      "Epoch 42/200\n",
      "568/568 - 0s - loss: 0.4255 - accuracy: 0.7940\n",
      "Epoch 43/200\n",
      "568/568 - 0s - loss: 0.4110 - accuracy: 0.7993\n",
      "Epoch 44/200\n",
      "568/568 - 0s - loss: 0.4203 - accuracy: 0.8011\n",
      "Epoch 45/200\n",
      "568/568 - 0s - loss: 0.4100 - accuracy: 0.8063\n",
      "Epoch 46/200\n",
      "568/568 - 0s - loss: 0.4084 - accuracy: 0.8116\n",
      "Epoch 47/200\n",
      "568/568 - 0s - loss: 0.4165 - accuracy: 0.7993\n",
      "Epoch 48/200\n",
      "568/568 - 0s - loss: 0.4140 - accuracy: 0.8028\n",
      "Epoch 49/200\n",
      "568/568 - 0s - loss: 0.4157 - accuracy: 0.7975\n",
      "Epoch 50/200\n",
      "568/568 - 0s - loss: 0.4135 - accuracy: 0.7993\n",
      "Epoch 51/200\n",
      "568/568 - 0s - loss: 0.4116 - accuracy: 0.8046\n",
      "Epoch 52/200\n",
      "568/568 - 0s - loss: 0.4123 - accuracy: 0.7975\n",
      "Epoch 53/200\n",
      "568/568 - 0s - loss: 0.4180 - accuracy: 0.8011\n",
      "Epoch 54/200\n",
      "568/568 - 0s - loss: 0.4149 - accuracy: 0.8063\n",
      "Epoch 55/200\n",
      "568/568 - 0s - loss: 0.4105 - accuracy: 0.7975\n",
      "Epoch 56/200\n",
      "568/568 - 0s - loss: 0.4155 - accuracy: 0.7940\n",
      "Epoch 57/200\n",
      "568/568 - 0s - loss: 0.4159 - accuracy: 0.7975\n",
      "Epoch 58/200\n",
      "568/568 - 0s - loss: 0.4064 - accuracy: 0.8116\n",
      "Epoch 59/200\n",
      "568/568 - 0s - loss: 0.4108 - accuracy: 0.7993\n",
      "Epoch 60/200\n",
      "568/568 - 0s - loss: 0.3981 - accuracy: 0.8116\n",
      "Epoch 61/200\n",
      "568/568 - 0s - loss: 0.4128 - accuracy: 0.8046\n",
      "Epoch 62/200\n",
      "568/568 - 0s - loss: 0.3975 - accuracy: 0.8099\n",
      "Epoch 63/200\n",
      "568/568 - 0s - loss: 0.3991 - accuracy: 0.8116\n",
      "Epoch 64/200\n",
      "568/568 - 0s - loss: 0.4040 - accuracy: 0.8063\n",
      "Epoch 65/200\n",
      "568/568 - 0s - loss: 0.3988 - accuracy: 0.8204\n",
      "Epoch 66/200\n",
      "568/568 - 0s - loss: 0.3957 - accuracy: 0.8151\n",
      "Epoch 67/200\n",
      "568/568 - 0s - loss: 0.4007 - accuracy: 0.8046\n",
      "Epoch 68/200\n",
      "568/568 - 0s - loss: 0.4031 - accuracy: 0.8151\n",
      "Epoch 69/200\n",
      "568/568 - 0s - loss: 0.4056 - accuracy: 0.7993\n",
      "Epoch 70/200\n",
      "568/568 - 0s - loss: 0.3907 - accuracy: 0.8151\n",
      "Epoch 71/200\n",
      "568/568 - 0s - loss: 0.3950 - accuracy: 0.8099\n",
      "Epoch 72/200\n",
      "568/568 - 0s - loss: 0.4029 - accuracy: 0.8081\n",
      "Epoch 73/200\n",
      "568/568 - 0s - loss: 0.4003 - accuracy: 0.8046\n",
      "Epoch 74/200\n",
      "568/568 - 0s - loss: 0.3904 - accuracy: 0.8063\n",
      "Epoch 75/200\n",
      "568/568 - 0s - loss: 0.3850 - accuracy: 0.8151\n",
      "Epoch 76/200\n",
      "568/568 - 0s - loss: 0.3942 - accuracy: 0.8116\n",
      "Epoch 77/200\n",
      "568/568 - 0s - loss: 0.3970 - accuracy: 0.8046\n",
      "Epoch 78/200\n",
      "568/568 - 0s - loss: 0.3922 - accuracy: 0.8151\n",
      "Epoch 79/200\n",
      "568/568 - 0s - loss: 0.3927 - accuracy: 0.8169\n",
      "Epoch 80/200\n",
      "568/568 - 0s - loss: 0.3848 - accuracy: 0.8239\n",
      "Epoch 81/200\n",
      "568/568 - 0s - loss: 0.3852 - accuracy: 0.8169\n",
      "Epoch 82/200\n",
      "568/568 - 0s - loss: 0.3863 - accuracy: 0.8011\n",
      "Epoch 83/200\n",
      "568/568 - 0s - loss: 0.3949 - accuracy: 0.8116\n",
      "Epoch 84/200\n",
      "568/568 - 0s - loss: 0.3891 - accuracy: 0.8028\n",
      "Epoch 85/200\n",
      "568/568 - 0s - loss: 0.3853 - accuracy: 0.8257\n",
      "Epoch 86/200\n",
      "568/568 - 0s - loss: 0.3868 - accuracy: 0.8239\n",
      "Epoch 87/200\n",
      "568/568 - 0s - loss: 0.3889 - accuracy: 0.8169\n",
      "Epoch 88/200\n",
      "568/568 - 0s - loss: 0.3821 - accuracy: 0.8204\n",
      "Epoch 89/200\n",
      "568/568 - 0s - loss: 0.3826 - accuracy: 0.8187\n",
      "Epoch 90/200\n",
      "568/568 - 0s - loss: 0.3853 - accuracy: 0.8275\n",
      "Epoch 91/200\n",
      "568/568 - 0s - loss: 0.3839 - accuracy: 0.8257\n",
      "Epoch 92/200\n",
      "568/568 - 0s - loss: 0.3745 - accuracy: 0.8151\n",
      "Epoch 93/200\n",
      "568/568 - 0s - loss: 0.3910 - accuracy: 0.8169\n",
      "Epoch 94/200\n",
      "568/568 - 0s - loss: 0.3900 - accuracy: 0.8151\n",
      "Epoch 95/200\n",
      "568/568 - 0s - loss: 0.3896 - accuracy: 0.8063\n",
      "Epoch 96/200\n",
      "568/568 - 0s - loss: 0.3808 - accuracy: 0.8187\n",
      "Epoch 97/200\n",
      "568/568 - 0s - loss: 0.3706 - accuracy: 0.8292\n",
      "Epoch 98/200\n",
      "568/568 - 0s - loss: 0.3772 - accuracy: 0.8204\n",
      "Epoch 99/200\n",
      "568/568 - 0s - loss: 0.3711 - accuracy: 0.8345\n",
      "Epoch 100/200\n",
      "568/568 - 0s - loss: 0.3735 - accuracy: 0.8222\n",
      "Epoch 101/200\n",
      "568/568 - 0s - loss: 0.3740 - accuracy: 0.8187\n",
      "Epoch 102/200\n",
      "568/568 - 0s - loss: 0.3808 - accuracy: 0.8151\n",
      "Epoch 103/200\n",
      "568/568 - 0s - loss: 0.3801 - accuracy: 0.8081\n",
      "Epoch 104/200\n",
      "568/568 - 0s - loss: 0.3740 - accuracy: 0.8257\n",
      "Epoch 105/200\n",
      "568/568 - 0s - loss: 0.3743 - accuracy: 0.8222\n",
      "Epoch 106/200\n",
      "568/568 - 0s - loss: 0.3657 - accuracy: 0.8151\n",
      "Epoch 107/200\n",
      "568/568 - 0s - loss: 0.3855 - accuracy: 0.8187\n",
      "Epoch 108/200\n",
      "568/568 - 0s - loss: 0.3810 - accuracy: 0.8169\n",
      "Epoch 109/200\n",
      "568/568 - 0s - loss: 0.3611 - accuracy: 0.8327\n",
      "Epoch 110/200\n",
      "568/568 - 0s - loss: 0.3673 - accuracy: 0.8292\n",
      "Epoch 111/200\n",
      "568/568 - 0s - loss: 0.3759 - accuracy: 0.8134\n",
      "Epoch 112/200\n",
      "568/568 - 0s - loss: 0.3672 - accuracy: 0.8257\n",
      "Epoch 113/200\n",
      "568/568 - 0s - loss: 0.3681 - accuracy: 0.8204\n",
      "Epoch 114/200\n",
      "568/568 - 0s - loss: 0.3813 - accuracy: 0.8151\n",
      "Epoch 115/200\n",
      "568/568 - 0s - loss: 0.3819 - accuracy: 0.8204\n",
      "Epoch 116/200\n",
      "568/568 - 0s - loss: 0.3635 - accuracy: 0.8345\n",
      "Epoch 117/200\n",
      "568/568 - 0s - loss: 0.3773 - accuracy: 0.8099\n",
      "Epoch 118/200\n",
      "568/568 - 0s - loss: 0.3663 - accuracy: 0.8151\n",
      "Epoch 119/200\n",
      "568/568 - 0s - loss: 0.3742 - accuracy: 0.8187\n",
      "Epoch 120/200\n",
      "568/568 - 0s - loss: 0.3650 - accuracy: 0.8151\n",
      "Epoch 121/200\n",
      "568/568 - 0s - loss: 0.3744 - accuracy: 0.8134\n",
      "Epoch 122/200\n",
      "568/568 - 0s - loss: 0.3716 - accuracy: 0.8134\n",
      "Epoch 123/200\n",
      "568/568 - 0s - loss: 0.3625 - accuracy: 0.8169\n",
      "Epoch 124/200\n",
      "568/568 - 0s - loss: 0.3619 - accuracy: 0.8275\n",
      "Epoch 125/200\n",
      "568/568 - 0s - loss: 0.3558 - accuracy: 0.8345\n",
      "Epoch 126/200\n",
      "568/568 - 0s - loss: 0.3523 - accuracy: 0.8363\n",
      "Epoch 127/200\n",
      "568/568 - 0s - loss: 0.3584 - accuracy: 0.8363\n",
      "Epoch 128/200\n",
      "568/568 - 0s - loss: 0.3678 - accuracy: 0.8327\n",
      "Epoch 129/200\n",
      "568/568 - 0s - loss: 0.3575 - accuracy: 0.8275\n",
      "Epoch 130/200\n",
      "568/568 - 0s - loss: 0.3592 - accuracy: 0.8257\n",
      "Epoch 131/200\n",
      "568/568 - 0s - loss: 0.3631 - accuracy: 0.8257\n",
      "Epoch 132/200\n",
      "568/568 - 0s - loss: 0.3564 - accuracy: 0.8292\n",
      "Epoch 133/200\n",
      "568/568 - 0s - loss: 0.3514 - accuracy: 0.8257\n",
      "Epoch 134/200\n",
      "568/568 - 0s - loss: 0.3489 - accuracy: 0.8345\n",
      "Epoch 135/200\n",
      "568/568 - 0s - loss: 0.3496 - accuracy: 0.8415\n",
      "Epoch 136/200\n",
      "568/568 - 0s - loss: 0.3486 - accuracy: 0.8363\n"
     ]
    },
    {
     "name": "stdout",
     "output_type": "stream",
     "text": [
      "Epoch 137/200\n",
      "568/568 - 0s - loss: 0.3509 - accuracy: 0.8398\n",
      "Epoch 138/200\n",
      "568/568 - 0s - loss: 0.3522 - accuracy: 0.8398\n",
      "Epoch 139/200\n",
      "568/568 - 0s - loss: 0.3355 - accuracy: 0.8451\n",
      "Epoch 140/200\n",
      "568/568 - 0s - loss: 0.3513 - accuracy: 0.8310\n",
      "Epoch 141/200\n",
      "568/568 - 0s - loss: 0.3636 - accuracy: 0.8363\n",
      "Epoch 142/200\n",
      "568/568 - 0s - loss: 0.3570 - accuracy: 0.8275\n",
      "Epoch 143/200\n",
      "568/568 - 0s - loss: 0.3381 - accuracy: 0.8468\n",
      "Epoch 144/200\n",
      "568/568 - 0s - loss: 0.3519 - accuracy: 0.8345\n",
      "Epoch 145/200\n",
      "568/568 - 0s - loss: 0.3481 - accuracy: 0.8398\n",
      "Epoch 146/200\n",
      "568/568 - 0s - loss: 0.3561 - accuracy: 0.8151\n",
      "Epoch 147/200\n",
      "568/568 - 0s - loss: 0.3564 - accuracy: 0.8345\n",
      "Epoch 148/200\n",
      "568/568 - 0s - loss: 0.3515 - accuracy: 0.8363\n",
      "Epoch 149/200\n",
      "568/568 - 0s - loss: 0.3377 - accuracy: 0.8327\n",
      "Epoch 150/200\n",
      "568/568 - 0s - loss: 0.3472 - accuracy: 0.8380\n",
      "Epoch 151/200\n",
      "568/568 - 0s - loss: 0.3505 - accuracy: 0.8169\n",
      "Epoch 152/200\n",
      "568/568 - 0s - loss: 0.3548 - accuracy: 0.8257\n",
      "Epoch 153/200\n",
      "568/568 - 0s - loss: 0.3393 - accuracy: 0.8415\n",
      "Epoch 154/200\n",
      "568/568 - 0s - loss: 0.3466 - accuracy: 0.8363\n",
      "Epoch 155/200\n",
      "568/568 - 0s - loss: 0.3422 - accuracy: 0.8468\n",
      "Epoch 156/200\n",
      "568/568 - 0s - loss: 0.3441 - accuracy: 0.8275\n",
      "Epoch 157/200\n",
      "568/568 - 0s - loss: 0.3359 - accuracy: 0.8451\n",
      "Epoch 158/200\n",
      "568/568 - 0s - loss: 0.3316 - accuracy: 0.8380\n",
      "Epoch 159/200\n",
      "568/568 - 0s - loss: 0.3439 - accuracy: 0.8187\n",
      "Epoch 160/200\n",
      "568/568 - 0s - loss: 0.3385 - accuracy: 0.8521\n",
      "Epoch 161/200\n",
      "568/568 - 0s - loss: 0.3398 - accuracy: 0.8275\n",
      "Epoch 162/200\n",
      "568/568 - 0s - loss: 0.3327 - accuracy: 0.8486\n",
      "Epoch 163/200\n",
      "568/568 - 0s - loss: 0.3391 - accuracy: 0.8327\n",
      "Epoch 164/200\n",
      "568/568 - 0s - loss: 0.3361 - accuracy: 0.8292\n",
      "Epoch 165/200\n",
      "568/568 - 0s - loss: 0.3431 - accuracy: 0.8363\n",
      "Epoch 166/200\n",
      "568/568 - 0s - loss: 0.3472 - accuracy: 0.8380\n",
      "Epoch 167/200\n",
      "568/568 - 0s - loss: 0.3414 - accuracy: 0.8380\n",
      "Epoch 168/200\n",
      "568/568 - 0s - loss: 0.3458 - accuracy: 0.8310\n",
      "Epoch 169/200\n",
      "568/568 - 0s - loss: 0.3433 - accuracy: 0.8310\n",
      "Epoch 170/200\n",
      "568/568 - 0s - loss: 0.3420 - accuracy: 0.8415\n",
      "Epoch 171/200\n",
      "568/568 - 0s - loss: 0.3383 - accuracy: 0.8415\n",
      "Epoch 172/200\n",
      "568/568 - 0s - loss: 0.3504 - accuracy: 0.8380\n",
      "Epoch 173/200\n",
      "568/568 - 0s - loss: 0.3445 - accuracy: 0.8451\n",
      "Epoch 174/200\n",
      "568/568 - 0s - loss: 0.3342 - accuracy: 0.8363\n",
      "Epoch 175/200\n",
      "568/568 - 0s - loss: 0.3283 - accuracy: 0.8433\n",
      "Epoch 176/200\n",
      "568/568 - 0s - loss: 0.3233 - accuracy: 0.8451\n",
      "Epoch 177/200\n",
      "568/568 - 0s - loss: 0.3376 - accuracy: 0.8327\n",
      "Epoch 178/200\n",
      "568/568 - 0s - loss: 0.3330 - accuracy: 0.8415\n",
      "Epoch 179/200\n",
      "568/568 - 0s - loss: 0.3234 - accuracy: 0.8486\n",
      "Epoch 180/200\n",
      "568/568 - 0s - loss: 0.3230 - accuracy: 0.8556\n",
      "Epoch 181/200\n",
      "568/568 - 0s - loss: 0.3254 - accuracy: 0.8468\n",
      "Epoch 182/200\n",
      "568/568 - 0s - loss: 0.3343 - accuracy: 0.8451\n",
      "Epoch 183/200\n",
      "568/568 - 0s - loss: 0.3318 - accuracy: 0.8433\n",
      "Epoch 184/200\n",
      "568/568 - 0s - loss: 0.3218 - accuracy: 0.8556\n",
      "Epoch 185/200\n",
      "568/568 - 0s - loss: 0.3235 - accuracy: 0.8468\n",
      "Epoch 186/200\n",
      "568/568 - 0s - loss: 0.3167 - accuracy: 0.8556\n",
      "Epoch 187/200\n",
      "568/568 - 0s - loss: 0.3255 - accuracy: 0.8433\n",
      "Epoch 188/200\n",
      "568/568 - 0s - loss: 0.3178 - accuracy: 0.8486\n",
      "Epoch 189/200\n",
      "568/568 - 0s - loss: 0.3199 - accuracy: 0.8468\n",
      "Epoch 190/200\n",
      "568/568 - 0s - loss: 0.3260 - accuracy: 0.8468\n",
      "Epoch 191/200\n",
      "568/568 - 0s - loss: 0.3319 - accuracy: 0.8380\n",
      "Epoch 192/200\n",
      "568/568 - 0s - loss: 0.3184 - accuracy: 0.8504\n",
      "Epoch 193/200\n",
      "568/568 - 0s - loss: 0.3144 - accuracy: 0.8433\n",
      "Epoch 194/200\n",
      "568/568 - 0s - loss: 0.3299 - accuracy: 0.8504\n",
      "Epoch 195/200\n",
      "568/568 - 0s - loss: 0.3286 - accuracy: 0.8380\n",
      "Epoch 196/200\n",
      "568/568 - 0s - loss: 0.3270 - accuracy: 0.8504\n",
      "Epoch 197/200\n",
      "568/568 - 0s - loss: 0.3236 - accuracy: 0.8574\n",
      "Epoch 198/200\n",
      "568/568 - 0s - loss: 0.3223 - accuracy: 0.8415\n",
      "Epoch 199/200\n",
      "568/568 - 0s - loss: 0.3286 - accuracy: 0.8398\n",
      "Epoch 200/200\n",
      "568/568 - 0s - loss: 0.3119 - accuracy: 0.8433\n"
     ]
    },
    {
     "data": {
      "text/plain": [
       "<tensorflow.python.keras.callbacks.History at 0x221174e3630>"
      ]
     },
     "execution_count": 102,
     "metadata": {},
     "output_type": "execute_result"
    }
   ],
   "source": [
    "model.fit(train_data , train_labels , epochs = 200 ,  verbose = 2 )"
   ]
  },
  {
   "cell_type": "code",
   "execution_count": 103,
   "metadata": {},
   "outputs": [
    {
     "name": "stdout",
     "output_type": "stream",
     "text": [
      "Test Accuracy :79.0%\n"
     ]
    }
   ],
   "source": [
    "loss , test_acc  = model.evaluate(test_data , test_labels , verbose = 0)\n",
    "print(\"Test Accuracy :\"+str(round(test_acc * 100))+\"%\")"
   ]
  },
  {
   "cell_type": "code",
   "execution_count": 129,
   "metadata": {},
   "outputs": [
    {
     "data": {
      "text/plain": [
       "Text(33.0, 0.5, 'Actual')"
      ]
     },
     "execution_count": 129,
     "metadata": {},
     "output_type": "execute_result"
    },
    {
     "data": {
      "image/png": "[encoded data removed]",
      "text/plain": [
       "<Figure size 432x288 with 1 Axes>"
      ]
     },
     "metadata": {
      "needs_background": "light"
     },
     "output_type": "display_data"
    }
   ],
   "source": [
    "from sklearn.metrics import confusion_matrix\n",
    "import seaborn as sns\n",
    "\n",
    "y_test_pred = model.predict_classes(test_data)\n",
    "c_matrix = confusion_matrix(test_labels, y_test_pred)\n",
    "ax = sns.heatmap(c_matrix, annot=True,xticklabels=['No Diabetes','Diabetes'],\n",
    "                 yticklabels=['No Diabetes','Diabetes'],cbar=False, cmap='Blues')\n",
    "ax.set_xlabel(\"Prediction\")\n",
    "ax.set_ylabel(\"Actual\")"
   ]
  },
  {
   "cell_type": "code",
   "execution_count": 105,
   "metadata": {},
   "outputs": [
    {
     "data": {
      "text/plain": [
       "array([[111,  18],\n",
       "       [ 24,  47]], dtype=int64)"
      ]
     },
     "execution_count": 105,
     "metadata": {},
     "output_type": "execute_result"
    }
   ],
   "source": [
    "c_matrix"
   ]
  },
  {
   "cell_type": "code",
   "execution_count": 111,
   "metadata": {},
   "outputs": [
    {
     "data": {
      "text/plain": [
       "array([[0.01486232]], dtype=float32)"
      ]
     },
     "execution_count": 111,
     "metadata": {},
     "output_type": "execute_result"
    }
   ],
   "source": [
    "prediction = model.predict(test_data[5].reshape(1,8))\n",
    "prediction"
   ]
  },
  {
   "cell_type": "code",
   "execution_count": 112,
   "metadata": {},
   "outputs": [
    {
     "data": {
      "text/plain": [
       "0.0"
      ]
     },
     "execution_count": 112,
     "metadata": {},
     "output_type": "execute_result"
    }
   ],
   "source": [
    "test_labels[5]"
   ]
  },
  {
   "cell_type": "code",
   "execution_count": 117,
   "metadata": {},
   "outputs": [
    {
     "data": {
      "text/plain": [
       "array([[0.1696128]], dtype=float32)"
      ]
     },
     "execution_count": 117,
     "metadata": {},
     "output_type": "execute_result"
    }
   ],
   "source": [
    "prediction = model.predict(test_data[190].reshape(1,8))\n",
    "prediction"
   ]
  },
  {
   "cell_type": "code",
   "execution_count": 118,
   "metadata": {},
   "outputs": [
    {
     "data": {
      "text/plain": [
       "0.0"
      ]
     },
     "execution_count": 118,
     "metadata": {},
     "output_type": "execute_result"
    }
   ],
   "source": [
    "test_labels[190]"
   ]
  },
  {
   "cell_type": "code",
   "execution_count": 122,
   "metadata": {},
   "outputs": [
    {
     "data": {
      "text/plain": [
       "array([[0.850619]], dtype=float32)"
      ]
     },
     "execution_count": 122,
     "metadata": {},
     "output_type": "execute_result"
    }
   ],
   "source": [
    "prediction = model.predict(test_data[193].reshape(1,8))\n",
    "prediction"
   ]
  },
  {
   "cell_type": "code",
   "execution_count": 123,
   "metadata": {},
   "outputs": [
    {
     "data": {
      "text/plain": [
       "1.0"
      ]
     },
     "execution_count": 123,
     "metadata": {},
     "output_type": "execute_result"
    }
   ],
   "source": [
    "test_labels[193]"
   ]
  },
  {
   "cell_type": "code",
   "execution_count": 126,
   "metadata": {},
   "outputs": [
    {
     "data": {
      "text/plain": [
       "array([[0.8243296]], dtype=float32)"
      ]
     },
     "execution_count": 126,
     "metadata": {},
     "output_type": "execute_result"
    }
   ],
   "source": [
    "#Incorrect prediction\n",
    "\n",
    "prediction = model.predict(test_data[67].reshape(1,8))\n",
    "prediction"
   ]
  },
  {
   "cell_type": "code",
   "execution_count": 127,
   "metadata": {},
   "outputs": [
    {
     "data": {
      "text/plain": [
       "0.0"
      ]
     },
     "execution_count": 127,
     "metadata": {},
     "output_type": "execute_result"
    }
   ],
   "source": [
    "test_labels[68]"
   ]
  },
  {
   "cell_type": "code",
   "execution_count": null,
   "metadata": {},
   "outputs": [],
   "source": []
  }
 ],
 "metadata": {
  "kernelspec": {
   "display_name": "Python 3",
   "language": "python",
   "name": "python3"
  },
  "language_info": {
   "codemirror_mode": {
    "name": "ipython",
    "version": 3
   },
   "file_extension": ".py",
   "mimetype": "text/x-python",
   "name": "python",
   "nbconvert_exporter": "python",
   "pygments_lexer": "ipython3",
   "version": "3.7.3"
  }
 },
 "nbformat": 4,
 "nbformat_minor": 2
}
